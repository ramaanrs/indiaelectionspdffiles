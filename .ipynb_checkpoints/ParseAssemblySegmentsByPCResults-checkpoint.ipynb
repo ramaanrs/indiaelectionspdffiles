{
 "cells": [
  {
   "cell_type": "code",
   "execution_count": 1,
   "id": "ef2326a5",
   "metadata": {},
   "outputs": [
    {
     "name": "stdout",
     "output_type": "stream",
     "text": [
      " 1999 (13th LOK SABHA)\n"
     ]
    }
   ],
   "source": [
    "# Parse Vol III text file to get detailed results\n",
    "# From the extract,get the block begin lines and block end lines and store those line numbers in a list\n",
    "import re\n",
    "with open('F:/Ramaa/CoolResearch/IndiaElectionsStudies/LokSabhaElections/All_1951_2019_RawFiles/Text/Text1999(Vol-III).txt','r') as result_file:\n",
    "    for line in result_file:\n",
    "        if line.find('Election Commission of India – General Elections,') >= 0:\n",
    "            election_year = line.replace('\\n','').split(',')[-1]\n",
    "    print(election_year)\n",
    "result_file.close()\n",
    "\n",
    "# get the page numbers and line numbers for all lines which have constituency and electors words in them. Former is where\n",
    "# the block begins and the latter is where the block ends\n",
    "block_begin_page = []\n",
    "block_end_page = []\n",
    "block_begin_line = []\n",
    "block_end_line = []\n",
    "with open('F:/Ramaa/CoolResearch/IndiaElectionsStudies/LokSabhaElections/All_1951_2019_RawFiles/Text/Text1999(Vol-III).txt','r') as result_file:\n",
    "    for line in result_file:\n",
    "        if line.find('AC Number and AC Nam') >= 0:\n",
    "            #print(line)\n",
    "            begin_page_number = int(line.split('_')[0].replace('Page',''))\n",
    "            block_begin_page.append(begin_page_number)\n",
    "            begin_line_number = int(line.split(':')[0].split('_')[1].replace('Line',''))\n",
    "            block_begin_line.append(begin_line_number)\n",
    "    \n",
    "        #if line.find('ELECTORS') >= 0:\n",
    "        if line.find('Total Valid Votes for the AC :') >= 0:\n",
    "        #print(line)\n",
    "            end_page_number = int(line.split('_')[0].replace('Page',''))\n",
    "            block_end_page.append(end_page_number)\n",
    "            end_line_number = int(line.split(':')[0].split('_')[1].replace('Line',''))\n",
    "            block_end_line.append(end_line_number)\n",
    "#    print(block_begin_page)\n",
    "#    print(block_begin_line)\n",
    "#    print(block_end_page)\n",
    "#    print(block_end_line)\n",
    "result_file.close()"
   ]
  },
  {
   "cell_type": "code",
   "execution_count": 17,
   "id": "33f0b417",
   "metadata": {},
   "outputs": [
    {
     "name": "stdout",
     "output_type": "stream",
     "text": [
      "Block_begin_page: 4090\n",
      "Result_Constituency_index: 33936\n",
      "Constituency_Electors_index: 4090\n"
     ]
    }
   ],
   "source": [
    "# Parse Vol III text file to get detailed results\n",
    "# Get a dictionary with page_line_number for result line as key and constituency line as value\n",
    "# Get a dictionary with page_line_number for constituency as key and elector line as value\n",
    "# Store the results in a pandas dataframe\n",
    "import pandas as pd\n",
    "dict_result_cons_line = {}\n",
    "dict_cons_elector_line = {}\n",
    "num_constituencies = len(block_begin_page)\n",
    "for page_number in range(0,num_constituencies):\n",
    "    begin_page = block_begin_page[page_number]\n",
    "    end_page = block_end_page[page_number]\n",
    "    begin_line = block_begin_line[page_number]\n",
    "    end_line = block_end_line[page_number]\n",
    "    \n",
    "    dict_cons_elector_line['Page'+str(begin_page)+'_'+'Line'+str(begin_line)] = 'Page'+str(end_page)+'_'+'Line'+str(end_line)\n",
    "    \n",
    "    for result_line in range(begin_line+1,end_line):\n",
    "        dict_result_cons_line['Page'+str(begin_page)+'_'+'Line'+str(result_line)] = 'Page'+str(begin_page)+'_'+'Line'+str(begin_line)\n",
    "    \n",
    "df_result_cons_index = pd.DataFrame(list(dict_result_cons_line.items()),columns  = ['Result_line','Cons_line'])\n",
    "df_cons_elector_index = pd.DataFrame(list(dict_cons_elector_line.items()),columns  = ['Cons_line','votes_line'])\n",
    "\n",
    "print('Block_begin_page: '+ str(len(block_begin_page)))\n",
    "print('Result_Constituency_index: '+ str(len(df_result_cons_index)))\n",
    "print('Constituency_Electors_index: '+ str(len(df_cons_elector_index)))"
   ]
  },
  {
   "cell_type": "code",
   "execution_count": 14,
   "id": "b8caf1ff",
   "metadata": {},
   "outputs": [
    {
     "name": "stdout",
     "output_type": "stream",
     "text": [
      "           Result_line        Cons_line\n",
      "0          Page7_Line5      Page7_Line4\n",
      "1          Page7_Line6      Page7_Line4\n",
      "2          Page7_Line7      Page7_Line4\n",
      "3         Page7_Line10      Page7_Line9\n",
      "4         Page7_Line11      Page7_Line9\n",
      "...                ...              ...\n",
      "33931  Page1431_Line17  Page1431_Line12\n",
      "33932  Page1431_Line18  Page1431_Line12\n",
      "33933  Page1431_Line19  Page1431_Line12\n",
      "33934  Page1431_Line20  Page1431_Line12\n",
      "33935  Page1431_Line21  Page1431_Line12\n",
      "\n",
      "[33936 rows x 2 columns]\n"
     ]
    }
   ],
   "source": [
    "print(df_result_cons_index)"
   ]
  },
  {
   "cell_type": "code",
   "execution_count": 18,
   "id": "822646e1",
   "metadata": {},
   "outputs": [
    {
     "name": "stdout",
     "output_type": "stream",
     "text": [
      "            Cons_line       votes_line\n",
      "0         Page7_Line4      Page7_Line8\n",
      "1         Page7_Line9     Page7_Line13\n",
      "2        Page7_Line14     Page7_Line18\n",
      "3        Page7_Line19     Page7_Line23\n",
      "4        Page7_Line24     Page7_Line28\n",
      "...               ...              ...\n",
      "4085  Page1430_Line12  Page1430_Line22\n",
      "4086  Page1430_Line23  Page1430_Line33\n",
      "4087  Page1430_Line34  Page1430_Line44\n",
      "4088   Page1431_Line1  Page1431_Line11\n",
      "4089  Page1431_Line12  Page1431_Line22\n",
      "\n",
      "[4090 rows x 2 columns]\n"
     ]
    }
   ],
   "source": [
    "print(df_cons_elector_index)"
   ]
  },
  {
   "cell_type": "code",
   "execution_count": 10,
   "id": "91b86934",
   "metadata": {},
   "outputs": [
    {
     "name": "stdout",
     "output_type": "stream",
     "text": [
      "4090\n",
      "            Cons_line           ac_name           Election_year\n",
      "0         Page7_Line4      1-Icha puram   1999 (13th LOK SABHA)\n",
      "1         Page7_Line9        2-Som peta   1999 (13th LOK SABHA)\n",
      "2        Page7_Line14         3-Tekkali   1999 (13th LOK SABHA)\n",
      "3        Page7_Line19   4-Harishchandra   1999 (13th LOK SABHA)\n",
      "4        Page7_Line24  5-Narasanna peta   1999 (13th LOK SABHA)\n",
      "...               ...               ...                     ...\n",
      "4085  Page1430_Line12     26-Tirunallar   1999 (13th LOK SABHA)\n",
      "4086  Page1430_Line23      27-Neduncadu   1999 (13th LOK SABHA)\n",
      "4087  Page1430_Line34           28-Mahe   1999 (13th LOK SABHA)\n",
      "4088   Page1431_Line1        29-Palloor   1999 (13th LOK SABHA)\n",
      "4089  Page1431_Line12          30-Yanam   1999 (13th LOK SABHA)\n",
      "\n",
      "[4090 rows x 3 columns]\n"
     ]
    }
   ],
   "source": [
    "# Parse Vol III text file to get detailed results\n",
    "# Get the ac line and the results line\n",
    "# Store it in a pandas dataframe with page_number, line_number index\n",
    "import re\n",
    "\n",
    "dict_cons_text_lines = {}\n",
    "\n",
    "with open('F:/Ramaa/CoolResearch/IndiaElectionsStudies/LokSabhaElections/All_1951_2019_RawFiles/Text/Text1999(Vol-III).txt', 'r') as read_file:\n",
    "    for row in read_file:\n",
    "        #if row.find('Constituency  :') >= 0:\n",
    "        for page_line_index in dict_cons_elector_line:\n",
    "            if row.startswith(page_line_index + ':'):\n",
    "                remove_newline = row.replace(' \\n','').strip()\n",
    "                remove_acnum_acname_text = remove_newline.replace(' AC Number and AC Nam','').strip()\n",
    "                cons_line = remove_acnum_acname_text.split(':')\n",
    "                ac_name = cons_line[1]\n",
    "                dict_cons_text_lines[cons_line[0]] = [ac_name]\n",
    "            \n",
    "read_file.close()\n",
    "\n",
    "df_cons_text_lines = pd.DataFrame(dict_cons_text_lines).T\n",
    "df_cons_text_lines.reset_index(inplace=True)\n",
    "#df_cons_text_lines.columns = ['Cons_line','Constituency','Num_Seats']\n",
    "df_cons_text_lines.columns = ['Cons_line','ac_name']\n",
    "# Add a new column election year to the pandas dataframe\n",
    "df_cons_text_lines['Election_year'] = election_year\n",
    "print(len(df_cons_text_lines))\n",
    "print(df_cons_text_lines)"
   ]
  },
  {
   "cell_type": "code",
   "execution_count": 22,
   "id": "b86f8aed",
   "metadata": {},
   "outputs": [
    {
     "name": "stdout",
     "output_type": "stream",
     "text": [
      "4090\n",
      "           votes_line total_votes_by_ac\n",
      "0         Page7_Line8             86884\n",
      "1        Page7_Line13             92429\n",
      "2        Page7_Line18             94131\n",
      "3        Page7_Line23             98935\n",
      "4        Page7_Line28             91989\n",
      "...               ...               ...\n",
      "4085  Page1430_Line22             11441\n",
      "4086  Page1430_Line33             11640\n",
      "4087  Page1430_Line44              7657\n",
      "4088  Page1431_Line11              8510\n",
      "4089  Page1431_Line22             12886\n",
      "\n",
      "[4090 rows x 2 columns]\n"
     ]
    }
   ],
   "source": [
    "# Parse Vol III text file to get detailed results\n",
    "# Get the Total Valid Votes for the AC\n",
    "# Store it in a pandas dataframe with page_number, line_number index\n",
    "import re\n",
    "\n",
    "dict_cons_votes_lines = {}\n",
    "\n",
    "with open('F:/Ramaa/CoolResearch/IndiaElectionsStudies/LokSabhaElections/All_1951_2019_RawFiles/Text/Text1999(Vol-III).txt', 'r') as read_file:\n",
    "    for row in read_file:\n",
    "        #if row.find('Constituency  :') >= 0:\n",
    "        for page_line_index,vote_line_index in dict_cons_elector_line.items():\n",
    "            if row.startswith(vote_line_index + ':'):\n",
    "                remove_newline = row.replace(' \\n','').strip()\n",
    "                remove_text = remove_newline.replace(' Total Valid Votes for the AC ','').strip()\n",
    "                votes_line = remove_text.split(':')\n",
    "                total_votes_by_ac = votes_line[1]\n",
    "                dict_cons_votes_lines[votes_line[0]] = [total_votes_by_ac]\n",
    "            \n",
    "read_file.close()\n",
    "\n",
    "df_cons_votes_lines = pd.DataFrame(dict_cons_votes_lines).T\n",
    "df_cons_votes_lines.reset_index(inplace=True)\n",
    "#df_cons_text_lines.columns = ['Cons_line','Constituency','Num_Seats']\n",
    "df_cons_votes_lines.columns = ['votes_line','total_votes_by_ac']\n",
    "# Add a new column election year to the pandas dataframe\n",
    "#df_cons_votes_lines['Election_year'] = election_year\n",
    "print(len(df_cons_votes_lines))\n",
    "print(df_cons_votes_lines)"
   ]
  },
  {
   "cell_type": "code",
   "execution_count": 28,
   "id": "b7f0dd1d",
   "metadata": {},
   "outputs": [
    {
     "name": "stdout",
     "output_type": "stream",
     "text": [
      "4090\n",
      "      Cons_line           ac_name           Election_year total_votes_by_ac\n",
      "0   Page7_Line4      1-Icha puram   1999 (13th LOK SABHA)             86884\n",
      "1   Page7_Line9        2-Som peta   1999 (13th LOK SABHA)             92429\n",
      "2  Page7_Line14         3-Tekkali   1999 (13th LOK SABHA)             94131\n",
      "3  Page7_Line19   4-Harishchandra   1999 (13th LOK SABHA)             98935\n",
      "4  Page7_Line24  5-Narasanna peta   1999 (13th LOK SABHA)             91989\n",
      "5  Page7_Line29  15-Amadalavalasa   1999 (13th LOK SABHA)             83729\n",
      "6  Page7_Line34     16-Srikakulam   1999 (13th LOK SABHA)            109556\n",
      "7   Page9_Line2     6-Pata patnam   1999 (13th LOK SABHA)             83711\n",
      "8   Page9_Line8         7-Kothuru   1999 (13th LOK SABHA)             86672\n",
      "9  Page9_Line14         8-Na guru   1999 (13th LOK SABHA)             84820\n"
     ]
    }
   ],
   "source": [
    "# Parse Vol III text file to get detailed results\n",
    "# join df_cons_text_lines (cons_line,ac_name),df_cons_votes_lines (votes_line,total_votes_by_ac,Election_year),\n",
    "# df_result_text_lines (Result_line,Results) to get all candidate details, constituency, number_of_seats, election year in one line\n",
    "\n",
    "df_ac_text = pd.merge(df_cons_elector_index,df_cons_text_lines,on='Cons_line')\n",
    "df_ac_votes = pd.merge(df_ac_text,df_cons_votes_lines,on='votes_line')\n",
    "df_ac_votes.drop(columns=['votes_line'],axis=1,inplace=True)\n",
    "print(len(df_ac_votes))\n",
    "print(df_ac_votes.head(10))"
   ]
  },
  {
   "cell_type": "code",
   "execution_count": 45,
   "id": "9d55a71f",
   "metadata": {},
   "outputs": [
    {
     "name": "stdout",
     "output_type": "stream",
     "text": [
      "33936\n",
      "           Result_line        Cons_line               candidate party  \\\n",
      "0          Page7_Line5      Page7_Line4  Yerrannaidu Kinjarapu    TDP   \n",
      "1          Page7_Line6      Page7_Line4   Kanithi Viswanadaham    INC   \n",
      "2          Page7_Line7      Page7_Line4    Appala Naidu Golive   AJBP   \n",
      "3         Page7_Line10      Page7_Line9  Yerrannaidu Kinjarapu    TDP   \n",
      "4         Page7_Line11      Page7_Line9   Kanithi Viswanadaham    INC   \n",
      "...                ...              ...                     ...   ...   \n",
      "33931  Page1431_Line17  Page1431_Line12           Kalivaradhan    IND   \n",
      "33932  Page1431_Line18  Page1431_Line12   Surendra Kumar Gupta    IND   \n",
      "33933  Page1431_Line19  Page1431_Line12       Dr. K Padmarajan    IND   \n",
      "33934  Page1431_Line20  Page1431_Line12          S Paramasivam    IND   \n",
      "33935  Page1431_Line21  Page1431_Line12           A Ramalingam    IND   \n",
      "\n",
      "      votes_candidate_ac  \n",
      "0                  48897  \n",
      "1                  36363  \n",
      "2                   1624  \n",
      "3                  55618  \n",
      "4                  35977  \n",
      "...                  ...  \n",
      "33931                 57  \n",
      "33932                 13  \n",
      "33933                 33  \n",
      "33934                 27  \n",
      "33935                 52  \n",
      "\n",
      "[33936 rows x 5 columns]\n"
     ]
    }
   ],
   "source": [
    "# Parse Vol III text file to get detailed results\n",
    "# Get the results lines for the ac\n",
    "# Store it in a pandas dataframe with page_number, line_number index\n",
    "import re\n",
    "\n",
    "dict_results_text_lines = {}\n",
    "\n",
    "with open('F:/Ramaa/CoolResearch/IndiaElectionsStudies/LokSabhaElections/All_1951_2019_RawFiles/Text/Text1999(Vol-III).txt', 'r') as read_file:\n",
    "    for row in read_file:\n",
    "        #if row.find('Constituency  :') >= 0:\n",
    "        for page_line_index,cons_line_index in dict_result_cons_line.items():\n",
    "            if row.startswith(page_line_index + ':'):\n",
    "                remove_newline = row.replace(' \\n','').strip()\n",
    "                results_line = remove_newline.split(':')\n",
    "                votes_candidate_line = results_line[1].split(' ')\n",
    "                votes_by_candidate_by_ac = votes_candidate_line[0]\n",
    "                party = votes_candidate_line[-1]\n",
    "                contains_candidate = votes_candidate_line[2:-1]\n",
    "                candidate = ''\n",
    "                for parts in range(0,len(contains_candidate)):\n",
    "                    candidate += contains_candidate[parts]+' '\n",
    "                dict_results_text_lines[results_line[0]] = [cons_line_index,candidate,party,votes_by_candidate_by_ac]\n",
    "            \n",
    "read_file.close()\n",
    "\n",
    "df_ac_results_lines = pd.DataFrame(dict_results_text_lines).T\n",
    "df_ac_results_lines.reset_index(inplace=True)\n",
    "#df_cons_text_lines.columns = ['Cons_line','Constituency','Num_Seats']\n",
    "df_ac_results_lines.columns = ['Result_line','Cons_line','candidate','party','votes_candidate_ac']\n",
    "# Add a new column election year to the pandas dataframe\n",
    "#df_cons_votes_lines['Election_year'] = election_year\n",
    "print(len(df_ac_results_lines))\n",
    "print(df_ac_results_lines)"
   ]
  },
  {
   "cell_type": "code",
   "execution_count": 50,
   "id": "b00dd03c",
   "metadata": {},
   "outputs": [
    {
     "ename": "ValueError",
     "evalue": "columns overlap but no suffix specified: Index(['Cons_line'], dtype='object')",
     "output_type": "error",
     "traceback": [
      "\u001b[1;31m---------------------------------------------------------------------------\u001b[0m",
      "\u001b[1;31mValueError\u001b[0m                                Traceback (most recent call last)",
      "\u001b[1;32m~\\AppData\\Local\\Temp\\ipykernel_15156\\363088779.py\u001b[0m in \u001b[0;36m<module>\u001b[1;34m\u001b[0m\n\u001b[0;32m      1\u001b[0m \u001b[1;31m# merge df_ac_votes (Cons_line, ac, votes,election_year),df_ac_results_lines (Result_line,\u001b[0m\u001b[1;33m\u001b[0m\u001b[1;33m\u001b[0m\u001b[0m\n\u001b[0;32m      2\u001b[0m \u001b[1;31m# candidate,party,votes_candidate_ac)\u001b[0m\u001b[1;33m\u001b[0m\u001b[1;33m\u001b[0m\u001b[0m\n\u001b[1;32m----> 3\u001b[1;33m \u001b[0mdf_ac_votes_results\u001b[0m \u001b[1;33m=\u001b[0m \u001b[0mdf_ac_results_lines\u001b[0m\u001b[1;33m.\u001b[0m\u001b[0mjoin\u001b[0m\u001b[1;33m(\u001b[0m\u001b[0mdf_ac_votes\u001b[0m\u001b[1;33m.\u001b[0m\u001b[0miloc\u001b[0m\u001b[1;33m[\u001b[0m\u001b[1;36m1\u001b[0m\u001b[1;33m:\u001b[0m\u001b[1;33m]\u001b[0m\u001b[1;33m.\u001b[0m\u001b[0mreset_index\u001b[0m\u001b[1;33m(\u001b[0m\u001b[0mdrop\u001b[0m\u001b[1;33m=\u001b[0m\u001b[1;32mTrue\u001b[0m\u001b[1;33m)\u001b[0m\u001b[1;33m,\u001b[0m \u001b[0mhow\u001b[0m\u001b[1;33m=\u001b[0m\u001b[1;34m'inner'\u001b[0m\u001b[1;33m)\u001b[0m\u001b[1;33m\u001b[0m\u001b[1;33m\u001b[0m\u001b[0m\n\u001b[0m\u001b[0;32m      4\u001b[0m \u001b[0mdf_ac_votes_results\u001b[0m\u001b[1;33m.\u001b[0m\u001b[0mdrop_duplicates\u001b[0m\u001b[1;33m(\u001b[0m\u001b[1;33m)\u001b[0m\u001b[1;33m\u001b[0m\u001b[1;33m\u001b[0m\u001b[0m\n\u001b[0;32m      5\u001b[0m \u001b[0mprint\u001b[0m\u001b[1;33m(\u001b[0m\u001b[0mlen\u001b[0m\u001b[1;33m(\u001b[0m\u001b[0mdf_ac_votes_results\u001b[0m\u001b[1;33m)\u001b[0m\u001b[1;33m)\u001b[0m\u001b[1;33m\u001b[0m\u001b[1;33m\u001b[0m\u001b[0m\n",
      "\u001b[1;32mF:\\anaconda\\lib\\site-packages\\pandas\\core\\frame.py\u001b[0m in \u001b[0;36mjoin\u001b[1;34m(self, other, on, how, lsuffix, rsuffix, sort)\u001b[0m\n\u001b[0;32m   9261\u001b[0m         \u001b[1;36m5\u001b[0m  \u001b[0mK1\u001b[0m  \u001b[0mA5\u001b[0m   \u001b[0mB1\u001b[0m\u001b[1;33m\u001b[0m\u001b[1;33m\u001b[0m\u001b[0m\n\u001b[0;32m   9262\u001b[0m         \"\"\"\n\u001b[1;32m-> 9263\u001b[1;33m         return self._join_compat(\n\u001b[0m\u001b[0;32m   9264\u001b[0m             \u001b[0mother\u001b[0m\u001b[1;33m,\u001b[0m \u001b[0mon\u001b[0m\u001b[1;33m=\u001b[0m\u001b[0mon\u001b[0m\u001b[1;33m,\u001b[0m \u001b[0mhow\u001b[0m\u001b[1;33m=\u001b[0m\u001b[0mhow\u001b[0m\u001b[1;33m,\u001b[0m \u001b[0mlsuffix\u001b[0m\u001b[1;33m=\u001b[0m\u001b[0mlsuffix\u001b[0m\u001b[1;33m,\u001b[0m \u001b[0mrsuffix\u001b[0m\u001b[1;33m=\u001b[0m\u001b[0mrsuffix\u001b[0m\u001b[1;33m,\u001b[0m \u001b[0msort\u001b[0m\u001b[1;33m=\u001b[0m\u001b[0msort\u001b[0m\u001b[1;33m\u001b[0m\u001b[1;33m\u001b[0m\u001b[0m\n\u001b[0;32m   9265\u001b[0m         )\n",
      "\u001b[1;32mF:\\anaconda\\lib\\site-packages\\pandas\\core\\frame.py\u001b[0m in \u001b[0;36m_join_compat\u001b[1;34m(self, other, on, how, lsuffix, rsuffix, sort)\u001b[0m\n\u001b[0;32m   9292\u001b[0m                     \u001b[0msort\u001b[0m\u001b[1;33m=\u001b[0m\u001b[0msort\u001b[0m\u001b[1;33m,\u001b[0m\u001b[1;33m\u001b[0m\u001b[1;33m\u001b[0m\u001b[0m\n\u001b[0;32m   9293\u001b[0m                 )\n\u001b[1;32m-> 9294\u001b[1;33m             return merge(\n\u001b[0m\u001b[0;32m   9295\u001b[0m                 \u001b[0mself\u001b[0m\u001b[1;33m,\u001b[0m\u001b[1;33m\u001b[0m\u001b[1;33m\u001b[0m\u001b[0m\n\u001b[0;32m   9296\u001b[0m                 \u001b[0mother\u001b[0m\u001b[1;33m,\u001b[0m\u001b[1;33m\u001b[0m\u001b[1;33m\u001b[0m\u001b[0m\n",
      "\u001b[1;32mF:\\anaconda\\lib\\site-packages\\pandas\\core\\reshape\\merge.py\u001b[0m in \u001b[0;36mmerge\u001b[1;34m(left, right, how, on, left_on, right_on, left_index, right_index, sort, suffixes, copy, indicator, validate)\u001b[0m\n\u001b[0;32m    120\u001b[0m         \u001b[0mvalidate\u001b[0m\u001b[1;33m=\u001b[0m\u001b[0mvalidate\u001b[0m\u001b[1;33m,\u001b[0m\u001b[1;33m\u001b[0m\u001b[1;33m\u001b[0m\u001b[0m\n\u001b[0;32m    121\u001b[0m     )\n\u001b[1;32m--> 122\u001b[1;33m     \u001b[1;32mreturn\u001b[0m \u001b[0mop\u001b[0m\u001b[1;33m.\u001b[0m\u001b[0mget_result\u001b[0m\u001b[1;33m(\u001b[0m\u001b[1;33m)\u001b[0m\u001b[1;33m\u001b[0m\u001b[1;33m\u001b[0m\u001b[0m\n\u001b[0m\u001b[0;32m    123\u001b[0m \u001b[1;33m\u001b[0m\u001b[0m\n\u001b[0;32m    124\u001b[0m \u001b[1;33m\u001b[0m\u001b[0m\n",
      "\u001b[1;32mF:\\anaconda\\lib\\site-packages\\pandas\\core\\reshape\\merge.py\u001b[0m in \u001b[0;36mget_result\u001b[1;34m(self)\u001b[0m\n\u001b[0;32m    716\u001b[0m         \u001b[0mjoin_index\u001b[0m\u001b[1;33m,\u001b[0m \u001b[0mleft_indexer\u001b[0m\u001b[1;33m,\u001b[0m \u001b[0mright_indexer\u001b[0m \u001b[1;33m=\u001b[0m \u001b[0mself\u001b[0m\u001b[1;33m.\u001b[0m\u001b[0m_get_join_info\u001b[0m\u001b[1;33m(\u001b[0m\u001b[1;33m)\u001b[0m\u001b[1;33m\u001b[0m\u001b[1;33m\u001b[0m\u001b[0m\n\u001b[0;32m    717\u001b[0m \u001b[1;33m\u001b[0m\u001b[0m\n\u001b[1;32m--> 718\u001b[1;33m         llabels, rlabels = _items_overlap_with_suffix(\n\u001b[0m\u001b[0;32m    719\u001b[0m             \u001b[0mself\u001b[0m\u001b[1;33m.\u001b[0m\u001b[0mleft\u001b[0m\u001b[1;33m.\u001b[0m\u001b[0m_info_axis\u001b[0m\u001b[1;33m,\u001b[0m \u001b[0mself\u001b[0m\u001b[1;33m.\u001b[0m\u001b[0mright\u001b[0m\u001b[1;33m.\u001b[0m\u001b[0m_info_axis\u001b[0m\u001b[1;33m,\u001b[0m \u001b[0mself\u001b[0m\u001b[1;33m.\u001b[0m\u001b[0msuffixes\u001b[0m\u001b[1;33m\u001b[0m\u001b[1;33m\u001b[0m\u001b[0m\n\u001b[0;32m    720\u001b[0m         )\n",
      "\u001b[1;32mF:\\anaconda\\lib\\site-packages\\pandas\\core\\reshape\\merge.py\u001b[0m in \u001b[0;36m_items_overlap_with_suffix\u001b[1;34m(left, right, suffixes)\u001b[0m\n\u001b[0;32m   2315\u001b[0m \u001b[1;33m\u001b[0m\u001b[0m\n\u001b[0;32m   2316\u001b[0m     \u001b[1;32mif\u001b[0m \u001b[1;32mnot\u001b[0m \u001b[0mlsuffix\u001b[0m \u001b[1;32mand\u001b[0m \u001b[1;32mnot\u001b[0m \u001b[0mrsuffix\u001b[0m\u001b[1;33m:\u001b[0m\u001b[1;33m\u001b[0m\u001b[1;33m\u001b[0m\u001b[0m\n\u001b[1;32m-> 2317\u001b[1;33m         \u001b[1;32mraise\u001b[0m \u001b[0mValueError\u001b[0m\u001b[1;33m(\u001b[0m\u001b[1;34mf\"columns overlap but no suffix specified: {to_rename}\"\u001b[0m\u001b[1;33m)\u001b[0m\u001b[1;33m\u001b[0m\u001b[1;33m\u001b[0m\u001b[0m\n\u001b[0m\u001b[0;32m   2318\u001b[0m \u001b[1;33m\u001b[0m\u001b[0m\n\u001b[0;32m   2319\u001b[0m     \u001b[1;32mdef\u001b[0m \u001b[0mrenamer\u001b[0m\u001b[1;33m(\u001b[0m\u001b[0mx\u001b[0m\u001b[1;33m,\u001b[0m \u001b[0msuffix\u001b[0m\u001b[1;33m)\u001b[0m\u001b[1;33m:\u001b[0m\u001b[1;33m\u001b[0m\u001b[1;33m\u001b[0m\u001b[0m\n",
      "\u001b[1;31mValueError\u001b[0m: columns overlap but no suffix specified: Index(['Cons_line'], dtype='object')"
     ]
    }
   ],
   "source": [
    "# merge df_ac_votes (Cons_line, ac, votes,election_year),df_ac_results_lines (Result_line, \n",
    "# candidate,party,votes_candidate_ac)\n",
    "df_ac_votes_results = df_ac_results_lines.join(df_ac_votes.iloc[1:].reset_index(drop=True), how='inner')\n",
    "df_ac_votes_results.drop_duplicates()\n",
    "print(len(df_ac_votes_results))\n",
    "print(df_ac_votes_results.head(10))"
   ]
  },
  {
   "cell_type": "code",
   "execution_count": 36,
   "id": "a649bcac",
   "metadata": {},
   "outputs": [
    {
     "ename": "PermissionError",
     "evalue": "[Errno 13] Permission denied",
     "output_type": "error",
     "traceback": [
      "\u001b[1;31m---------------------------------------------------------------------------\u001b[0m",
      "\u001b[1;31mPermissionError\u001b[0m                           Traceback (most recent call last)",
      "\u001b[1;32m~\\AppData\\Local\\Temp\\ipykernel_15156\\260210619.py\u001b[0m in \u001b[0;36m<module>\u001b[1;34m\u001b[0m\n\u001b[0;32m      1\u001b[0m \u001b[1;32mimport\u001b[0m \u001b[0mos\u001b[0m\u001b[1;33m\u001b[0m\u001b[1;33m\u001b[0m\u001b[0m\n\u001b[1;32m----> 2\u001b[1;33m \u001b[0mdf_ac_votes_results\u001b[0m\u001b[1;33m.\u001b[0m\u001b[0mto_csv\u001b[0m\u001b[1;33m(\u001b[0m\u001b[1;34m'F:/Ramaa/CoolResearch/IndiaElectionsStudies/LokSabhaElections/All_1951_2019/Assembly_PC_info/1999_pc_ac_info.csv'\u001b[0m\u001b[1;33m)\u001b[0m\u001b[1;33m\u001b[0m\u001b[1;33m\u001b[0m\u001b[0m\n\u001b[0m",
      "\u001b[1;32mF:\\anaconda\\lib\\site-packages\\pandas\\core\\generic.py\u001b[0m in \u001b[0;36mto_csv\u001b[1;34m(self, path_or_buf, sep, na_rep, float_format, columns, header, index, index_label, mode, encoding, compression, quoting, quotechar, line_terminator, chunksize, date_format, doublequote, escapechar, decimal, errors, storage_options)\u001b[0m\n\u001b[0;32m   3549\u001b[0m         )\n\u001b[0;32m   3550\u001b[0m \u001b[1;33m\u001b[0m\u001b[0m\n\u001b[1;32m-> 3551\u001b[1;33m         return DataFrameRenderer(formatter).to_csv(\n\u001b[0m\u001b[0;32m   3552\u001b[0m             \u001b[0mpath_or_buf\u001b[0m\u001b[1;33m,\u001b[0m\u001b[1;33m\u001b[0m\u001b[1;33m\u001b[0m\u001b[0m\n\u001b[0;32m   3553\u001b[0m             \u001b[0mline_terminator\u001b[0m\u001b[1;33m=\u001b[0m\u001b[0mline_terminator\u001b[0m\u001b[1;33m,\u001b[0m\u001b[1;33m\u001b[0m\u001b[1;33m\u001b[0m\u001b[0m\n",
      "\u001b[1;32mF:\\anaconda\\lib\\site-packages\\pandas\\io\\formats\\format.py\u001b[0m in \u001b[0;36mto_csv\u001b[1;34m(self, path_or_buf, encoding, sep, columns, index_label, mode, compression, quoting, quotechar, line_terminator, chunksize, date_format, doublequote, escapechar, errors, storage_options)\u001b[0m\n\u001b[0;32m   1178\u001b[0m             \u001b[0mformatter\u001b[0m\u001b[1;33m=\u001b[0m\u001b[0mself\u001b[0m\u001b[1;33m.\u001b[0m\u001b[0mfmt\u001b[0m\u001b[1;33m,\u001b[0m\u001b[1;33m\u001b[0m\u001b[1;33m\u001b[0m\u001b[0m\n\u001b[0;32m   1179\u001b[0m         )\n\u001b[1;32m-> 1180\u001b[1;33m         \u001b[0mcsv_formatter\u001b[0m\u001b[1;33m.\u001b[0m\u001b[0msave\u001b[0m\u001b[1;33m(\u001b[0m\u001b[1;33m)\u001b[0m\u001b[1;33m\u001b[0m\u001b[1;33m\u001b[0m\u001b[0m\n\u001b[0m\u001b[0;32m   1181\u001b[0m \u001b[1;33m\u001b[0m\u001b[0m\n\u001b[0;32m   1182\u001b[0m         \u001b[1;32mif\u001b[0m \u001b[0mcreated_buffer\u001b[0m\u001b[1;33m:\u001b[0m\u001b[1;33m\u001b[0m\u001b[1;33m\u001b[0m\u001b[0m\n",
      "\u001b[1;32mF:\\anaconda\\lib\\site-packages\\pandas\\io\\formats\\csvs.py\u001b[0m in \u001b[0;36msave\u001b[1;34m(self)\u001b[0m\n\u001b[0;32m    259\u001b[0m             )\n\u001b[0;32m    260\u001b[0m \u001b[1;33m\u001b[0m\u001b[0m\n\u001b[1;32m--> 261\u001b[1;33m             \u001b[0mself\u001b[0m\u001b[1;33m.\u001b[0m\u001b[0m_save\u001b[0m\u001b[1;33m(\u001b[0m\u001b[1;33m)\u001b[0m\u001b[1;33m\u001b[0m\u001b[1;33m\u001b[0m\u001b[0m\n\u001b[0m\u001b[0;32m    262\u001b[0m \u001b[1;33m\u001b[0m\u001b[0m\n\u001b[0;32m    263\u001b[0m     \u001b[1;32mdef\u001b[0m \u001b[0m_save\u001b[0m\u001b[1;33m(\u001b[0m\u001b[0mself\u001b[0m\u001b[1;33m)\u001b[0m \u001b[1;33m->\u001b[0m \u001b[1;32mNone\u001b[0m\u001b[1;33m:\u001b[0m\u001b[1;33m\u001b[0m\u001b[1;33m\u001b[0m\u001b[0m\n",
      "\u001b[1;32mF:\\anaconda\\lib\\site-packages\\pandas\\io\\formats\\csvs.py\u001b[0m in \u001b[0;36m_save\u001b[1;34m(self)\u001b[0m\n\u001b[0;32m    264\u001b[0m         \u001b[1;32mif\u001b[0m \u001b[0mself\u001b[0m\u001b[1;33m.\u001b[0m\u001b[0m_need_to_save_header\u001b[0m\u001b[1;33m:\u001b[0m\u001b[1;33m\u001b[0m\u001b[1;33m\u001b[0m\u001b[0m\n\u001b[0;32m    265\u001b[0m             \u001b[0mself\u001b[0m\u001b[1;33m.\u001b[0m\u001b[0m_save_header\u001b[0m\u001b[1;33m(\u001b[0m\u001b[1;33m)\u001b[0m\u001b[1;33m\u001b[0m\u001b[1;33m\u001b[0m\u001b[0m\n\u001b[1;32m--> 266\u001b[1;33m         \u001b[0mself\u001b[0m\u001b[1;33m.\u001b[0m\u001b[0m_save_body\u001b[0m\u001b[1;33m(\u001b[0m\u001b[1;33m)\u001b[0m\u001b[1;33m\u001b[0m\u001b[1;33m\u001b[0m\u001b[0m\n\u001b[0m\u001b[0;32m    267\u001b[0m \u001b[1;33m\u001b[0m\u001b[0m\n\u001b[0;32m    268\u001b[0m     \u001b[1;32mdef\u001b[0m \u001b[0m_save_header\u001b[0m\u001b[1;33m(\u001b[0m\u001b[0mself\u001b[0m\u001b[1;33m)\u001b[0m \u001b[1;33m->\u001b[0m \u001b[1;32mNone\u001b[0m\u001b[1;33m:\u001b[0m\u001b[1;33m\u001b[0m\u001b[1;33m\u001b[0m\u001b[0m\n",
      "\u001b[1;32mF:\\anaconda\\lib\\site-packages\\pandas\\io\\formats\\csvs.py\u001b[0m in \u001b[0;36m_save_body\u001b[1;34m(self)\u001b[0m\n\u001b[0;32m    302\u001b[0m             \u001b[1;32mif\u001b[0m \u001b[0mstart_i\u001b[0m \u001b[1;33m>=\u001b[0m \u001b[0mend_i\u001b[0m\u001b[1;33m:\u001b[0m\u001b[1;33m\u001b[0m\u001b[1;33m\u001b[0m\u001b[0m\n\u001b[0;32m    303\u001b[0m                 \u001b[1;32mbreak\u001b[0m\u001b[1;33m\u001b[0m\u001b[1;33m\u001b[0m\u001b[0m\n\u001b[1;32m--> 304\u001b[1;33m             \u001b[0mself\u001b[0m\u001b[1;33m.\u001b[0m\u001b[0m_save_chunk\u001b[0m\u001b[1;33m(\u001b[0m\u001b[0mstart_i\u001b[0m\u001b[1;33m,\u001b[0m \u001b[0mend_i\u001b[0m\u001b[1;33m)\u001b[0m\u001b[1;33m\u001b[0m\u001b[1;33m\u001b[0m\u001b[0m\n\u001b[0m\u001b[0;32m    305\u001b[0m \u001b[1;33m\u001b[0m\u001b[0m\n\u001b[0;32m    306\u001b[0m     \u001b[1;32mdef\u001b[0m \u001b[0m_save_chunk\u001b[0m\u001b[1;33m(\u001b[0m\u001b[0mself\u001b[0m\u001b[1;33m,\u001b[0m \u001b[0mstart_i\u001b[0m\u001b[1;33m:\u001b[0m \u001b[0mint\u001b[0m\u001b[1;33m,\u001b[0m \u001b[0mend_i\u001b[0m\u001b[1;33m:\u001b[0m \u001b[0mint\u001b[0m\u001b[1;33m)\u001b[0m \u001b[1;33m->\u001b[0m \u001b[1;32mNone\u001b[0m\u001b[1;33m:\u001b[0m\u001b[1;33m\u001b[0m\u001b[1;33m\u001b[0m\u001b[0m\n",
      "\u001b[1;32mF:\\anaconda\\lib\\site-packages\\pandas\\io\\formats\\csvs.py\u001b[0m in \u001b[0;36m_save_chunk\u001b[1;34m(self, start_i, end_i)\u001b[0m\n\u001b[0;32m    313\u001b[0m \u001b[1;33m\u001b[0m\u001b[0m\n\u001b[0;32m    314\u001b[0m         \u001b[0mix\u001b[0m \u001b[1;33m=\u001b[0m \u001b[0mself\u001b[0m\u001b[1;33m.\u001b[0m\u001b[0mdata_index\u001b[0m\u001b[1;33m[\u001b[0m\u001b[0mslicer\u001b[0m\u001b[1;33m]\u001b[0m\u001b[1;33m.\u001b[0m\u001b[0m_format_native_types\u001b[0m\u001b[1;33m(\u001b[0m\u001b[1;33m**\u001b[0m\u001b[0mself\u001b[0m\u001b[1;33m.\u001b[0m\u001b[0m_number_format\u001b[0m\u001b[1;33m)\u001b[0m\u001b[1;33m\u001b[0m\u001b[1;33m\u001b[0m\u001b[0m\n\u001b[1;32m--> 315\u001b[1;33m         libwriters.write_csv_rows(\n\u001b[0m\u001b[0;32m    316\u001b[0m             \u001b[0mdata\u001b[0m\u001b[1;33m,\u001b[0m\u001b[1;33m\u001b[0m\u001b[1;33m\u001b[0m\u001b[0m\n\u001b[0;32m    317\u001b[0m             \u001b[0mix\u001b[0m\u001b[1;33m,\u001b[0m\u001b[1;33m\u001b[0m\u001b[1;33m\u001b[0m\u001b[0m\n",
      "\u001b[1;32mF:\\anaconda\\lib\\site-packages\\pandas\\_libs\\writers.pyx\u001b[0m in \u001b[0;36mpandas._libs.writers.write_csv_rows\u001b[1;34m()\u001b[0m\n",
      "\u001b[1;31mPermissionError\u001b[0m: [Errno 13] Permission denied"
     ]
    }
   ],
   "source": [
    "import os\n",
    "df_ac_votes_results.to_csv('F:/Ramaa/CoolResearch/IndiaElectionsStudies/LokSabhaElections/All_1951_2019/Assembly_PC_info/1999_pc_ac_info.csv')"
   ]
  },
  {
   "cell_type": "code",
   "execution_count": null,
   "id": "4c601a2b",
   "metadata": {},
   "outputs": [],
   "source": []
  }
 ],
 "metadata": {
  "kernelspec": {
   "display_name": "Python 3 (ipykernel)",
   "language": "python",
   "name": "python3"
  },
  "language_info": {
   "codemirror_mode": {
    "name": "ipython",
    "version": 3
   },
   "file_extension": ".py",
   "mimetype": "text/x-python",
   "name": "python",
   "nbconvert_exporter": "python",
   "pygments_lexer": "ipython3",
   "version": "3.9.13"
  }
 },
 "nbformat": 4,
 "nbformat_minor": 5
}
