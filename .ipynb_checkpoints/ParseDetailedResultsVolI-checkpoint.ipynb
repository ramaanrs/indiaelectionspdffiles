{
 "cells": [
  {
   "cell_type": "code",
   "execution_count": null,
   "id": "09a93c06",
   "metadata": {},
   "outputs": [],
   "source": [
    "# If line contains the words rptDetailedResults, remove that line\n",
    "# if line contains the words _Line0, remove that line (Line0:No. CANDIDATE PARTY VOTES %GENERAL ELECTIONS - INDIA)"
   ]
  },
  {
   "cell_type": "code",
   "execution_count": 144,
   "id": "b9b59e4c",
   "metadata": {},
   "outputs": [
    {
     "name": "stdout",
     "output_type": "stream",
     "text": [
      "['Page192', 'Page193', 'Page194', 'Page195', 'Page196', 'Page197', 'Page198', 'Page199', 'Page200', 'Page201', 'Page202', 'Page203', 'Page204', 'Page205', 'Page206', 'Page207', 'Page208', 'Page209', 'Page210', 'Page211', 'Page212', 'Page213', 'Page214', 'Page215', 'Page216', 'Page217', 'Page218', 'Page219', 'Page220', 'Page221', 'Page222', 'Page223', 'Page224', 'Page225', 'Page226', 'Page227', 'Page228', 'Page229', 'Page230', 'Page231', 'Page232', 'Page233', 'Page234', 'Page235', 'Page236', 'Page237', 'Page238', 'Page239', 'Page240', 'Page241', 'Page242', 'Page243', 'Page244', 'Page245', 'Page246', 'Page247', 'Page248', 'Page249', 'Page250', 'Page251', 'Page252', 'Page253', 'Page254', 'Page255', 'Page256', 'Page257', 'Page258', 'Page259', 'Page260', 'Page261', 'Page262', 'Page263', 'Page264', 'Page265', 'Page266', 'Page267', 'Page268', 'Page269', 'Page270', 'Page271', 'Page272', 'Page273', 'Page274', 'Page275', 'Page276', 'Page277', 'Page278', 'Page279', 'Page280', 'Page281', 'Page282', 'Page283', 'Page284', 'Page285', 'Page286', 'Page287', 'Page288', 'Page289', 'Page290', 'Page291', 'Page292', 'Page293', 'Page294', 'Page295', 'Page296', 'Page297', 'Page298', 'Page299', 'Page300', 'Page301', 'Page302', 'Page303', 'Page304', 'Page305', 'Page306', 'Page307', 'Page308', 'Page309', 'Page310', 'Page311', 'Page312', 'Page313', 'Page314', 'Page315', 'Page316', 'Page317', 'Page318', 'Page319', 'Page320', 'Page321', 'Page322', 'Page323', 'Page324', 'Page325', 'Page326', 'Page327', 'Page328', 'Page329', 'Page330', 'Page331', 'Page332', 'Page333', 'Page334', 'Page335', 'Page336', 'Page337', 'Page338', 'Page339', 'Page340', 'Page341', 'Page342', 'Page343', 'Page344', 'Page345', 'Page346', 'Page347', 'Page348', 'Page349', 'Page350', 'Page351', 'Page352', 'Page353', 'Page354', 'Page355', 'Page356', 'Page357', 'Page358', 'Page359', 'Page360', 'Page361']\n"
     ]
    }
   ],
   "source": [
    "# Parse Vol I text file to get detailed results\n",
    "\n",
    "# get the detailed_results pages\n",
    "detailed_results_pages = []\n",
    "with open('F:/Ramaa/CoolResearch/IndiaElectionsStudies/LokSabhaElections/All_1951_2019_RawFiles/Text/Text2004(Vol-I).txt', 'r') as f:\n",
    "    for row in f:\n",
    "        if row.find('rptDetailedResults') >= 0:\n",
    "            line = row.split('_')\n",
    "            detailed_results_pages.append(line[0])\n",
    "    print(detailed_results_pages)\n",
    "f.close()\n",
    "\n",
    "# extract detailed results pages from the list detailed_results_pages generated from previous block \n",
    "#write_file=open('F:/Ramaa/CoolResearch/IndiaElectionsStudies/LokSabhaElections/1951/1951DetailedResultPages.txt','a')\n",
    "write_file=open('F:/Ramaa/CoolResearch/IndiaElectionsStudies/LokSabhaElections/All_1951_2019_RawFiles/DetailedResultsText/2004DetailedResultPages.txt','a')\n",
    "\n",
    "with open('F:/Ramaa/CoolResearch/IndiaElectionsStudies/LokSabhaElections/All_1951_2019_RawFiles/Text/Text2004(Vol-I).txt', 'r') as read_file:\n",
    "    for line in read_file:\n",
    "        for page in detailed_results_pages:\n",
    "            if line.startswith(page + '_') == True:\n",
    "                write_file.write(line)\n",
    "                \n",
    "write_file.close()"
   ]
  },
  {
   "cell_type": "code",
   "execution_count": 1,
   "id": "672bd28b",
   "metadata": {},
   "outputs": [
    {
     "name": "stdout",
     "output_type": "stream",
     "text": [
      " 1999 (13th LOK SABHA)\n"
     ]
    }
   ],
   "source": [
    "# Parse Vol I text file to get detailed results\n",
    "# From the extract,get the block begin lines and block end lines and store those line numbers in a list\n",
    "import re\n",
    "with open('F:/Ramaa/CoolResearch/IndiaElectionsStudies/LokSabhaElections/All_1951_2019_RawFiles/DetailedResultsText/1999DetailedResultPages.txt','r') as result_file:\n",
    "    for line in result_file:\n",
    "        if line.find('Election Commission of India, General Elections,') >= 0:\n",
    "            election_year = line.replace('\\n','').split(',')[-1].replace('\\t','').replace('\"','')\n",
    "    print(election_year)\n",
    "result_file.close()\n",
    "\n",
    "# get the page numbers and line numbers for all lines which have constituency and electors words in them. Former is where\n",
    "# the block begins and the latter is where the block ends\n",
    "block_begin_page = []\n",
    "block_end_page = []\n",
    "block_begin_line = []\n",
    "block_end_line = []\n",
    "overflow_begin_page = []\n",
    "overflow_begin_line = []\n",
    "overflow_end_page = []\n",
    "overflow_end_line = []\n",
    "\n",
    "with open('F:/Ramaa/CoolResearch/IndiaElectionsStudies/LokSabhaElections/All_1951_2019_RawFiles/DetailedResultsText/1999DetailedResultPages.txt','r') as result_file:\n",
    "    for line in result_file:\n",
    "        if line.find('Constituency  ') >= 0:\n",
    "            #print(line)\n",
    "            begin_page_number = int(line.split('_')[0].replace('Page',''))\n",
    "            block_begin_page.append(begin_page_number)\n",
    "            begin_line_number = int(line.split(':')[0].split('_')[1].replace('Line',''))\n",
    "            #begin_line_number = int(line.split(':')[0].split('_')[1].replace('Line',''))\n",
    "            block_begin_line.append(begin_line_number)\n",
    "    \n",
    "        #if line.find('ELECTORS') >= 0:\n",
    "        if line.find('ELECTORS :') >= 0:\n",
    "        #print(line)\n",
    "            end_page_number = int(line.split('_')[0].replace('Page',''))\n",
    "            block_end_page.append(end_page_number)\n",
    "            end_line_number = int(line.split(':')[0].split('_')[1].replace('Line',''))\n",
    "            block_end_line.append(end_line_number)\n",
    "            \n",
    "#        if line.find('No. CANDIDATE SEX PARTY VOTES %') >= 0:\n",
    "#        #print(line)\n",
    "#            overflow_begin_page_number = int(line.split('_')[0].replace('Page',''))\n",
    "#            overflow_begin_page.append(overflow_begin_page_number)\n",
    "#            overflow_begin_line_number = int(line.split(':')[0].split('_')[1].replace('Line',''))\n",
    "#            overflow_begin_line.append(overflow_begin_line_number)\n",
    "\n",
    "#        #if line.find('ELECTORS') >= 0:\n",
    "#        if line.find('rptDetailedResults') >= 0:\n",
    "#        #print(line)\n",
    "#            overflow_end_page_number = int(line.split('_')[0].replace('Page',''))\n",
    "#            overflow_end_page.append(overflow_end_page_number)\n",
    "#            overflow_end_line_number = int(line.split(':')[0].split('_')[1].replace('Line',''))\n",
    "#            overflow_end_line.append(overflow_end_line_number)\n",
    "            \n",
    "            \n",
    "#    print(block_begin_page)\n",
    "#    print(block_begin_line)\n",
    "#    print(block_end_page)\n",
    "#    print(block_end_line)\n",
    "result_file.close()"
   ]
  },
  {
   "cell_type": "code",
   "execution_count": 2,
   "id": "dfc9ad6e",
   "metadata": {},
   "outputs": [
    {
     "name": "stdout",
     "output_type": "stream",
     "text": [
      "Block_begin_page: 543\n",
      "Result_Constituency_index: 5477\n",
      "Constituency_Electors_index: 543\n"
     ]
    }
   ],
   "source": [
    "# Parse Vol I text file to get detailed results\n",
    "# Get a dictionary with page_line_number for result line as key and constituency line as value\n",
    "# Get a dictionary with page_line_number for constituency as key and elector line as value\n",
    "# Store the results in a pandas dataframe\n",
    "import pandas as pd\n",
    "dict_result_cons_line = {}\n",
    "dict_cons_elector_line = {}\n",
    "num_constituencies = len(block_begin_page)\n",
    "\n",
    "for page_number in range(0,num_constituencies):\n",
    "    begin_page = block_begin_page[page_number]\n",
    "    end_page = block_end_page[page_number]\n",
    "    begin_line = block_begin_line[page_number]\n",
    "    end_line = block_end_line[page_number]\n",
    "    #of_begin_page = overflow_begin_page[page_number]\n",
    "    #of_end_page = overflow_end_page[page_number]\n",
    "    #of_begin_line = overflow_begin_line[page_number]\n",
    "    #of_end_line = overflow_end_line[page_number]\n",
    "    \n",
    "    dict_cons_elector_line['Page'+str(begin_page)+'_'+'Line'+str(begin_line)] = 'Page'+str(end_page)+'_'+'Line'+str(end_line)\n",
    "    \n",
    "    if begin_page == end_page:\n",
    "        for result_line in range(begin_line+1,end_line):\n",
    "            dict_result_cons_line['Page'+str(begin_page)+'_'+'Line'+str(result_line)] = 'Page'+str(begin_page)+'_'+'Line'+str(begin_line)\n",
    "    else:\n",
    "        for result_line in range(begin_line+1,75):\n",
    "            dict_result_cons_line['Page'+str(begin_page)+'_'+'Line'+str(result_line)] = 'Page'+str(begin_page)+'_'+'Line'+str(begin_line)\n",
    "        for result_line in range(2,end_line):\n",
    "            dict_result_cons_line['Page'+str(begin_page+1)+'_'+'Line'+str(result_line)] = 'Page'+str(begin_page)+'_'+'Line'+str(begin_line)\n",
    "    #dict_cons_elector_line['Page'+str(begin_page)+'_'+'Line'+str(begin_line)] = 'Page'+str(end_page)+'_'+'Line'+str(end_line)\n",
    "    \n",
    "    #for result_line in range(begin_line+1,end_line):\n",
    "    #    dict_result_cons_line['Page'+str(begin_page)+'_'+'Line'+str(result_line)] = 'Page'+str(begin_page)+'_'+'Line'+str(begin_line)\n",
    "    \n",
    "df_result_cons_index = pd.DataFrame(list(dict_result_cons_line.items()),columns  = ['Result_line','Cons_line'])\n",
    "df_cons_elector_index = pd.DataFrame(list(dict_cons_elector_line.items()),columns  = ['Cons_line','Electors_line'])\n",
    "\n",
    "print('Block_begin_page: '+ str(len(block_begin_page)))\n",
    "print('Result_Constituency_index: '+ str(len(df_result_cons_index)))\n",
    "print('Constituency_Electors_index: '+ str(len(df_cons_elector_index)))"
   ]
  },
  {
   "cell_type": "code",
   "execution_count": 3,
   "id": "d45b77a3",
   "metadata": {},
   "outputs": [
    {
     "name": "stdout",
     "output_type": "stream",
     "text": [
      "         Result_line       Cons_line\n",
      "0      Page165_Line5   Page165_Line4\n",
      "1      Page165_Line6   Page165_Line4\n",
      "2      Page165_Line7   Page165_Line4\n",
      "3     Page165_Line10   Page165_Line9\n",
      "4     Page165_Line11   Page165_Line9\n",
      "...              ...             ...\n",
      "5472  Page264_Line44  Page264_Line39\n",
      "5473  Page264_Line45  Page264_Line39\n",
      "5474  Page264_Line46  Page264_Line39\n",
      "5475  Page264_Line47  Page264_Line39\n",
      "5476  Page264_Line48  Page264_Line39\n",
      "\n",
      "[5477 rows x 2 columns]\n"
     ]
    }
   ],
   "source": [
    "print(df_result_cons_index)"
   ]
  },
  {
   "cell_type": "code",
   "execution_count": 4,
   "id": "30080ba0",
   "metadata": {},
   "outputs": [
    {
     "name": "stdout",
     "output_type": "stream",
     "text": [
      "          Cons_line   Electors_line\n",
      "0     Page165_Line4   Page165_Line8\n",
      "1     Page165_Line9  Page165_Line14\n",
      "2    Page165_Line15  Page165_Line20\n",
      "3    Page165_Line21  Page165_Line28\n",
      "4    Page165_Line29  Page165_Line36\n",
      "..              ...             ...\n",
      "538  Page263_Line44  Page263_Line60\n",
      "539   Page264_Line2  Page264_Line16\n",
      "540  Page264_Line17  Page264_Line30\n",
      "541  Page264_Line32  Page264_Line37\n",
      "542  Page264_Line39  Page264_Line49\n",
      "\n",
      "[543 rows x 2 columns]\n"
     ]
    }
   ],
   "source": [
    "print(df_cons_elector_index)"
   ]
  },
  {
   "cell_type": "code",
   "execution_count": 5,
   "id": "b9a51238",
   "metadata": {},
   "outputs": [
    {
     "name": "stdout",
     "output_type": "stream",
     "text": [
      "4735\n",
      "         Result_line                                            Results\n",
      "0      Page165_Line5        1.YERRANNAIDU KINJARAPU M TDP 373851 56.81%\n",
      "1      Page165_Line6         2.KANITHI VISWANADAHAM M INC 276969 42.09%\n",
      "2      Page165_Line7            3.APPALA NAIDU GOLIVE M AJBP 7280 1.11%\n",
      "3     Page165_Line10  1.DADICHILUKA VEERA GOURI SANKARA RAO M TDP 30...\n",
      "4     Page165_Line11  2.KISHORE CHANDRA SURYANARAYANA DEO VYRICHERLA...\n",
      "...              ...                                                ...\n",
      "4730  Page264_Line44                    5.A RAMALINGAM M IND 5562 1.25%\n",
      "4731  Page264_Line45              6.ADV. T ASHOK KUMAR M IND 5179 1.17%\n",
      "4732  Page264_Line46                7.DR. K PADMARAJAN M IND 2700 0.61%\n",
      "4733  Page264_Line47                   8.S PARAMASIVAM M IND 2155 0.49%\n",
      "4734  Page264_Line48            9.SURENDRA KUMAR GUPTA M IND 1349 0.30%\n",
      "\n",
      "[4735 rows x 2 columns]\n"
     ]
    }
   ],
   "source": [
    "# Parse Vol I text file to get detailed results\n",
    "# Get the results lines and parse it\n",
    "# Store it in a pandas dataframe with page_number, line_number index\n",
    "# This cell not required\n",
    "import re\n",
    "#Page96_Line5\n",
    "#dict_result_cons_line\n",
    "dict_result_text_lines = {}\n",
    "\n",
    "with open('F:/Ramaa/CoolResearch/IndiaElectionsStudies/LokSabhaElections/All_1951_2019_RawFiles/DetailedResultsText/1999DetailedResultPages.txt', 'r') as read_file:\n",
    "    for line in read_file:\n",
    "        for page_line_index in dict_result_cons_line:\n",
    "            if line.startswith(page_line_index+':') == True:\n",
    "            #if line.startswith(page_line_index+'\t') == True:\n",
    "                #print(line)\n",
    "                remove_newline = line.replace('\\n','')\n",
    "                #print(remove_newline)\n",
    "                results_line = remove_newline.split(':')\n",
    "                dict_result_text_lines[results_line[0]] = results_line[1]\n",
    "read_file.close()\n",
    "\n",
    "df_result_text_lines = pd.DataFrame(list(dict_result_text_lines.items()),columns  = ['Result_line','Results'])\n",
    "print(len(df_result_text_lines))\n",
    "print(df_result_text_lines)"
   ]
  },
  {
   "cell_type": "code",
   "execution_count": 6,
   "id": "e28be0dd",
   "metadata": {},
   "outputs": [
    {
     "name": "stdout",
     "output_type": "stream",
     "text": [
      "543\n",
      "          Cons_line        Constituency           Election_year\n",
      "0     Page165_Line4          SRIKAKULAM   1999 (13th LOK SABHA)\n",
      "1     Page165_Line9  PARVATHIPURAM (ST)   1999 (13th LOK SABHA)\n",
      "2    Page165_Line15             BOBBILI   1999 (13th LOK SABHA)\n",
      "3    Page165_Line21       VISAKHAPATNAM   1999 (13th LOK SABHA)\n",
      "4    Page165_Line29   BHADRACHALAM (ST)   1999 (13th LOK SABHA)\n",
      "..              ...                 ...                     ...\n",
      "538  Page263_Line44       CHANDNI CHOWK   1999 (13th LOK SABHA)\n",
      "539   Page264_Line2        6DELHI SADAR   1999 (13th LOK SABHA)\n",
      "540  Page264_Line17    7KAROL BAGH (SC)   1999 (13th LOK SABHA)\n",
      "541  Page264_Line32    LAKSHADWEEP (ST)   1999 (13th LOK SABHA)\n",
      "542  Page264_Line39         PONDICHERRY   1999 (13th LOK SABHA)\n",
      "\n",
      "[543 rows x 3 columns]\n"
     ]
    }
   ],
   "source": [
    "# Parse Vol I text file to get detailed results\n",
    "# Get the constituency line and parse it to get constituency and number of seats\n",
    "# Store it in a pandas dataframe with page_number, line_number index\n",
    "import re\n",
    "\n",
    "dict_cons_text_lines = {}\n",
    "cons_text = r'Constituency  [1-500]'\n",
    "#pos = r'[0-9] . '\n",
    "pos = r'[0-100]'\n",
    "seats_text = r'NUMBER OF SEATS'\n",
    "\n",
    "with open('F:/Ramaa/CoolResearch/IndiaElectionsStudies/LokSabhaElections/All_1951_2019_RawFiles/DetailedResultsText/1999DetailedResultPages.txt', 'r') as read_file:\n",
    "    for row in read_file:\n",
    "        #if row.find('Constituency  :') >= 0:\n",
    "        for page_line_index in dict_cons_elector_line:\n",
    "            if row.startswith(page_line_index + ':'):\n",
    "                remove_cons = re.sub(cons_text,'',row)\n",
    "                remove_seats = re.sub(seats_text,'',remove_cons)\n",
    "                remove_newline = remove_seats.replace(' \\n','').strip()\n",
    "                cons_line = remove_newline.split(':')\n",
    "                #cons_line = remove_newline.split('\t')\n",
    "                cons_pre = cons_line[1].replace('Constituency  ','').strip()\n",
    "                cons = re.sub(pos,'',cons_pre).strip()\n",
    "                #total_electors = cons_line[2].replace(' ( Total Electors )','').replace(' .  ','').strip()\n",
    "            #constitution = ''\n",
    "            #len_cons_list = len(cons)\n",
    "            #for cons_words in range(0,len_cons_list):\n",
    "            #    constitution += cons[cons_words]+' '\n",
    "            #num_seats = cons_line[1].split(' ')[-1]\n",
    "            #dict_cons_text_lines[cons_line[0]] = [constitution,num_seats]\n",
    "                dict_cons_text_lines[cons_line[0]] = [cons]\n",
    "            \n",
    "read_file.close()\n",
    "\n",
    "df_cons_text_lines = pd.DataFrame(dict_cons_text_lines).T\n",
    "df_cons_text_lines.reset_index(inplace=True)\n",
    "#df_cons_text_lines.columns = ['Cons_line','Constituency','Num_Seats']\n",
    "df_cons_text_lines.columns = ['Cons_line','Constituency']\n",
    "# Add a new column election year to the pandas dataframe\n",
    "df_cons_text_lines['Election_year'] = election_year\n",
    "print(len(df_cons_text_lines))\n",
    "print(df_cons_text_lines)"
   ]
  },
  {
   "cell_type": "code",
   "execution_count": 9,
   "id": "b8d4a93d",
   "metadata": {
    "scrolled": true
   },
   "outputs": [],
   "source": [
    "# Parse Vol I text file to get detailed results\n",
    "# Get the results lines and parse it\n",
    "# Store it in a pandas dataframe with page_number, line_number index\n",
    "import io\n",
    "dict_result_text_lines = {}\n",
    "position = r'[0-50].'\n",
    "\n",
    "with open('F:/Ramaa/CoolResearch/IndiaElectionsStudies/LokSabhaElections/All_1951_2019_RawFiles/DetailedResultsText/1999DetailedResultPages.txt', 'r') as read_file:\n",
    "    for line in read_file:\n",
    "        for page_line_index in dict_result_cons_line:\n",
    "            if line.startswith(page_line_index+':'): #and line.find('rptDetailedResults') == 0:\n",
    "                replace_hashnum = line.replace('#Num!','0.00%')\n",
    "                remove_uncontested = replace_hashnum.replace(' RETURNED UNCONTESTED','').strip()\n",
    "                remove_newline = remove_uncontested.replace('\\n','')\n",
    "                results_line = remove_newline.split(':')\n",
    "                results = results_line[1].split(' ')\n",
    "                #print(results)\n",
    "                #print(results)\n",
    "                #candidate_position = remove_newline.split(':')[1].split('.')[0]\n",
    "                #print(candidate_position)\n",
    "                #party = results[-3]\n",
    "                #age_category_party = results[-6].split(' ')\n",
    "                #name_gender = results[-7].split(' ')\n",
    "                party = results[-3]\n",
    "                #print(page_line_index)\n",
    "                Gender = results[-4]\n",
    "                #Age = age_category_party[0]\n",
    "                #category = age_category_party[-2]\n",
    "                votes_received = results[-2]\n",
    "                #votes_received_perc_over_electors = results[-1]\n",
    "                #votes_received_perc_over_votes_polled = results[-2]\n",
    "                votes_perc = results[-1]\n",
    "                contains_candidate = results[:-4]\n",
    "                #contains_candidate = name_gender[:-1]\n",
    "                candidate_with_pos = ''\n",
    "                for parts in range(0,len(contains_candidate)):\n",
    "                    candidate_with_pos += contains_candidate[parts]+' '\n",
    "                    candidate = re.sub(position,'',candidate_with_pos).strip()\n",
    "                #dict_result_text_lines[results_line[0]] = [candidate,party,Gender,Age,votes]\n",
    "                dict_result_text_lines[results_line[0]] = [candidate,Gender,party,votes_received,votes_perc]\n",
    "                \n",
    "df_results_text_lines = pd.DataFrame(dict_result_text_lines).T\n",
    "df_results_text_lines.reset_index(inplace=True)\n",
    "df_results_text_lines.columns = ['Result_line','Candidate','Gender','Party','Votes_received','Votes_received_perc']\n",
    "#df_results_text_lines.columns = ['Result_line','Candidate','Party','Votes_received','Votes_received_perc']"
   ]
  },
  {
   "cell_type": "code",
   "execution_count": 10,
   "id": "762197ff",
   "metadata": {},
   "outputs": [
    {
     "name": "stdout",
     "output_type": "stream",
     "text": [
      "         Result_line                                     Candidate Gender  \\\n",
      "0      Page165_Line5                         YERRANNAIDU KINJARAPU      M   \n",
      "1      Page165_Line6                          KANITHI VISWANADAHAM      M   \n",
      "2      Page165_Line7                           APPALA NAIDU GOLIVE      M   \n",
      "3     Page165_Line10           DADICHILUKA VEERA GOURI SANKARA RAO      M   \n",
      "4     Page165_Line11  KISHORE CHANDRA SURYANARAYANA DEO VYRICHERLA      M   \n",
      "...              ...                                           ...    ...   \n",
      "4730  Page264_Line44                                  A RAMALINGAM      M   \n",
      "4731  Page264_Line45                          6.ADV. T ASHOK KUMAR      M   \n",
      "4732  Page264_Line46                            7.DR. K PADMARAJAN      M   \n",
      "4733  Page264_Line47                               8.S PARAMASIVAM      M   \n",
      "4734  Page264_Line48                        9.SURENDRA KUMAR GUPTA      M   \n",
      "\n",
      "     Party Votes_received Votes_received_perc  \n",
      "0      TDP         373851              56.81%  \n",
      "1      INC         276969              42.09%  \n",
      "2     AJBP           7280               1.11%  \n",
      "3      TDP         304000              49.54%  \n",
      "4      INC         290719              47.38%  \n",
      "...    ...            ...                 ...  \n",
      "4730   IND           5562               1.25%  \n",
      "4731   IND           5179               1.17%  \n",
      "4732   IND           2700               0.61%  \n",
      "4733   IND           2155               0.49%  \n",
      "4734   IND           1349               0.30%  \n",
      "\n",
      "[4735 rows x 6 columns]\n"
     ]
    }
   ],
   "source": [
    "print(df_results_text_lines)"
   ]
  },
  {
   "cell_type": "code",
   "execution_count": 11,
   "id": "bf3b0543",
   "metadata": {},
   "outputs": [
    {
     "name": "stdout",
     "output_type": "stream",
     "text": [
      "4735\n",
      "         Constituency           Election_year  \\\n",
      "0          SRIKAKULAM   1999 (13th LOK SABHA)   \n",
      "1          SRIKAKULAM   1999 (13th LOK SABHA)   \n",
      "2          SRIKAKULAM   1999 (13th LOK SABHA)   \n",
      "3  PARVATHIPURAM (ST)   1999 (13th LOK SABHA)   \n",
      "4  PARVATHIPURAM (ST)   1999 (13th LOK SABHA)   \n",
      "5  PARVATHIPURAM (ST)   1999 (13th LOK SABHA)   \n",
      "6  PARVATHIPURAM (ST)   1999 (13th LOK SABHA)   \n",
      "7             BOBBILI   1999 (13th LOK SABHA)   \n",
      "8             BOBBILI   1999 (13th LOK SABHA)   \n",
      "9             BOBBILI   1999 (13th LOK SABHA)   \n",
      "\n",
      "                                      Candidate Gender Party Votes_received  \\\n",
      "0                         YERRANNAIDU KINJARAPU      M   TDP         373851   \n",
      "1                          KANITHI VISWANADAHAM      M   INC         276969   \n",
      "2                           APPALA NAIDU GOLIVE      M  AJBP           7280   \n",
      "3           DADICHILUKA VEERA GOURI SANKARA RAO      M   TDP         304000   \n",
      "4  KISHORE CHANDRA SURYANARAYANA DEO VYRICHERLA      M   INC         290719   \n",
      "5                             ARIKA GUMPA SWAMY      M   IND           9750   \n",
      "6                               VOOYAKA MUTYALU      M   IND           9172   \n",
      "7                          BOTCHA SATYANARAYANA      M   INC         339768   \n",
      "8                                  ARUNA PADALA      F   TDP         335947   \n",
      "9                               MANJULA  DASARI      F  AJBP          16425   \n",
      "\n",
      "  Votes_received_perc  \n",
      "0              56.81%  \n",
      "1              42.09%  \n",
      "2               1.11%  \n",
      "3              49.54%  \n",
      "4              47.38%  \n",
      "5               1.59%  \n",
      "6               1.49%  \n",
      "7              48.95%  \n",
      "8              48.40%  \n",
      "9               2.37%  \n"
     ]
    }
   ],
   "source": [
    "# Parse Vol I text file to get detailed results\n",
    "# join df_result_cons_index (Result_line,Cons_line),df_cons_text_lines (Cons_line,Constituency,Election_year),\n",
    "# df_result_text_lines (Result_line,Results) to get all candidate details, constituency, number_of_seats, election year in one line\n",
    "\n",
    "df_cons_text = pd.merge(df_result_cons_index,df_cons_text_lines,on='Cons_line')\n",
    "df_candidate_results = pd.merge(df_cons_text,df_results_text_lines,on='Result_line')\n",
    "df_candidate_results.drop(columns=['Result_line', 'Cons_line'],axis=1,inplace=True)\n",
    "print(len(df_candidate_results))\n",
    "print(df_candidate_results.head(10))"
   ]
  },
  {
   "cell_type": "code",
   "execution_count": 12,
   "id": "c6760f5a",
   "metadata": {},
   "outputs": [],
   "source": [
    "import os\n",
    "df_candidate_results.to_csv('F:/Ramaa/CoolResearch/IndiaElectionsStudies/LokSabhaElections/All_1951_2019/DetailedResults/1999_1_candidate_cons.csv')\n"
   ]
  },
  {
   "cell_type": "code",
   "execution_count": 89,
   "id": "40447dd4",
   "metadata": {},
   "outputs": [],
   "source": [
    "# Parse Vol I text file to get detailed results\n",
    "# Get the elector lines and parse it\n",
    "# Store it in a pandas dataframe with page_number, line_number index\n",
    "\n",
    "dict_elector_text_lines = {}\n",
    "\n",
    "with open('F:/Ramaa/CoolResearch/IndiaElectionsStudies/LokSabhaElections/All_1951_2019_RawFiles/DetailedResultsText/Text2009_ConstituencyWiseDetailedResult.txt', 'r') as read_file:\n",
    "    for line in read_file:\n",
    "        for cons_line_index,elector_line_index in dict_cons_elector_line.items():\n",
    "            if line.startswith(elector_line_index+':'):\n",
    "                remove_newline = line.replace('\\n','').replace(' TOTAL','').replace('ELECTORS : ','').replace('VALID VOTES ','').replace('VOTERS  : ','').replace('POLL PERCENTAGE  :','')\n",
    "                results_line = remove_newline.split(':')\n",
    "                elector_line_index = results_line[0]\n",
    "                valid_votes = results_line[1].strip().split('  ')[1]\n",
    "                #electors_info_line = results_line[2].strip().split(' ')\n",
    "                total_vote_perc_over_total_electors = results_line[2].split('  ')[2]\n",
    "                total_vote_perc_over_total_polled_votes = results_line[2].split('  ')[3]\n",
    "                #electors = electors_info_line[0].strip()\n",
    "                #poll_perc = electors_info_line[1].strip()\n",
    "                #valid_votes = electors_info_line[-1].strip()\n",
    "                #voters = electors_info_line[3].strip()\n",
    "                dict_elector_text_lines[elector_line_index] = [valid_votes,total_vote_perc_over_total_electors,total_vote_perc_over_total_polled_votes]\n",
    "                #dict_elector_text_lines[elector_line_index] = [electors,voters,valid_votes]\n",
    "                \n",
    "df_elector_text_lines = pd.DataFrame(dict_elector_text_lines).T\n",
    "df_elector_text_lines.reset_index(inplace=True)\n",
    "df_elector_text_lines.columns = ['Electors_line','Valid_votes','votes_perc_over_electors','votes_perc_over_total_votes']"
   ]
  },
  {
   "cell_type": "code",
   "execution_count": 90,
   "id": "78f52e86",
   "metadata": {},
   "outputs": [
    {
     "name": "stdout",
     "output_type": "stream",
     "text": [
      "543\n",
      "      Electors_line Valid_votes votes_perc_over_electors  \\\n",
      "0      Page0_Line20      863581                     8.48   \n",
      "1      Page0_Line37      904084                     4.58   \n",
      "2       Page1_Line8      989301                     4.41   \n",
      "3      Page1_Line24      889511                     5.56   \n",
      "4      Page1_Line37     1017290                     7.48   \n",
      "..              ...         ...                      ...   \n",
      "538  Page194_Line62      857543                     2.98   \n",
      "539  Page195_Line26      883437                     3.49   \n",
      "540  Page195_Line44      731294                     3.16   \n",
      "541  Page195_Line51       39498                    21.47   \n",
      "542  Page196_Line33      607948                     2.85   \n",
      "\n",
      "    votes_perc_over_total_votes  \n",
      "0                         11.11  \n",
      "1                          6.67  \n",
      "2                          6.67  \n",
      "3                          8.33  \n",
      "4                         10.00  \n",
      "..                          ...  \n",
      "538                        6.25  \n",
      "539                        6.67  \n",
      "540                        6.67  \n",
      "541                       25.00  \n",
      "542                        3.57  \n",
      "\n",
      "[543 rows x 4 columns]\n"
     ]
    }
   ],
   "source": [
    "print(len(df_elector_text_lines))\n",
    "print(df_elector_text_lines)"
   ]
  },
  {
   "cell_type": "code",
   "execution_count": 91,
   "id": "ac547950",
   "metadata": {},
   "outputs": [
    {
     "name": "stdout",
     "output_type": "stream",
     "text": [
      "543\n",
      "          Constituency Total_electors           Election_year Valid_votes  \\\n",
      "0             Adilabad        1131211   2009 (15th LOK SABHA)      863581   \n",
      "1           Peddapalle        1315642   2009 (15th LOK SABHA)      904084   \n",
      "2           Karimnagar        1496211   2009 (15th LOK SABHA)      989301   \n",
      "3            Nizamabad        1333271   2009 (15th LOK SABHA)      889511   \n",
      "4            Zahirabad        1359566   2009 (15th LOK SABHA)     1017290   \n",
      "..                 ...            ...                     ...         ...   \n",
      "538  NORTH WEST  DELHI        1798181   2009 (15th LOK SABHA)      857543   \n",
      "539        WEST  DELHI        1687727   2009 (15th LOK SABHA)      883437   \n",
      "540        SOUTH DELHI        1542412   2009 (15th LOK SABHA)      731294   \n",
      "541        Lakshadweep          45983   2009 (15th LOK SABHA)       39498   \n",
      "542         Puducherry         762440   2009 (15th LOK SABHA)      607948   \n",
      "\n",
      "    votes_perc_over_electors votes_perc_over_total_votes  \n",
      "0                       8.48                       11.11  \n",
      "1                       4.58                        6.67  \n",
      "2                       4.41                        6.67  \n",
      "3                       5.56                        8.33  \n",
      "4                       7.48                       10.00  \n",
      "..                       ...                         ...  \n",
      "538                     2.98                        6.25  \n",
      "539                     3.49                        6.67  \n",
      "540                     3.16                        6.67  \n",
      "541                    21.47                       25.00  \n",
      "542                     2.85                        3.57  \n",
      "\n",
      "[543 rows x 6 columns]\n"
     ]
    }
   ],
   "source": [
    "# Parse Vol I text file to get detailed results\n",
    "# 1. join df_cons_elector_index (Cons_line,Electors_line),df_cons_text_lines (Cons_line,Constituency,Election_year),\n",
    "# 2. join 1 with df_elector_text_lines (Electors_line,Electors) to get all electors details, constituency, number_of_seats, election year in one line\n",
    "\n",
    "df_cons_electors_text = pd.merge(df_cons_elector_index,df_cons_text_lines,on='Cons_line')\n",
    "df_electors_info = pd.merge(df_cons_electors_text,df_elector_text_lines,on='Electors_line')\n",
    "df_electors_info.drop(columns=['Electors_line', 'Cons_line'],axis=1,inplace=True)\n",
    "print(len(df_electors_info))\n",
    "print(df_electors_info)"
   ]
  },
  {
   "cell_type": "code",
   "execution_count": 92,
   "id": "79572e6d",
   "metadata": {},
   "outputs": [],
   "source": [
    "import os\n",
    "df_electors_info.to_csv('F:/Ramaa/CoolResearch/IndiaElectionsStudies/LokSabhaElections/All_1951_2019/ElectorsInfo/2009_electors_info_cons.csv')\n"
   ]
  },
  {
   "cell_type": "code",
   "execution_count": null,
   "id": "5d5d8164",
   "metadata": {},
   "outputs": [],
   "source": [
    "# all testing with one lines done below"
   ]
  },
  {
   "cell_type": "code",
   "execution_count": 76,
   "id": "dfbe9904",
   "metadata": {},
   "outputs": [
    {
     "name": "stdout",
     "output_type": "stream",
     "text": [
      "Page189_Line41\n",
      "TRIPURA EAST (ST)\n",
      "1\n",
      "        Cons_line       Constituency\n",
      "0  Page189_Line41  TRIPURA EAST (ST)\n"
     ]
    }
   ],
   "source": [
    "text = 'Page269_Line5:3.LUCKY R. PERUMAL @KALIAPERUMAL M ADMK 102622 25.10%'\n",
    "dict_cons_text_lines = {}\n",
    "cons_line_text = text.split(':')\n",
    "cons_line = cons_line_text[0]\n",
    "cons = cons_line_text[2].split(' . ')[1].strip()\n",
    "dict_cons_text_lines[cons_line] = [cons]\n",
    "print(cons_line)\n",
    "print(cons)\n",
    "\n",
    "df_cons_text_lines = pd.DataFrame(dict_cons_text_lines).T\n",
    "df_cons_text_lines.reset_index(inplace=True)\n",
    "#df_cons_text_lines.columns = ['Cons_line','Constituency','Num_Seats']\n",
    "df_cons_text_lines.columns = ['Cons_line','Constituency']\n",
    "# Add a new column election year to the pandas dataframe\n",
    "#df_cons_text_lines['Election_year'] = election_year\n",
    "print(len(df_cons_text_lines))\n",
    "print(df_cons_text_lines)"
   ]
  },
  {
   "cell_type": "code",
   "execution_count": 111,
   "id": "92231f79",
   "metadata": {},
   "outputs": [
    {
     "name": "stdout",
     "output_type": "stream",
     "text": [
      "         Result_line                           Candidate       Party  \\\n",
      "0      Page170_Line5           1.KINJARAPU YERRANNAIDU M         TDP   \n",
      "1      Page170_Line6         2.APPAYYA DORA HANUMANTHU M  NTRTDP(LP)   \n",
      "2      Page170_Line7            3.DHARMANA PRASADA RAO M         INC   \n",
      "3      Page170_Line8        4.TAMMINENI JAGANMOHANARAO M         IND   \n",
      "4     Page170_Line11     1.VIJAYA RAMARAJU SETRUCHARLA M         TDP   \n",
      "...              ...                                 ...         ...   \n",
      "1298  Page203_Line55                 3.AHALLIYA SANKAR F         BJP   \n",
      "1299  Page203_Line56      4.PUTHUTHOTTIL IBRAHIM TIRUR M         PDP   \n",
      "1300  Page203_Line57      5.CHOLAKKATTIL KUNHIMUHAMMED M         IND   \n",
      "1301  Page204_Line11                   1.S. AJAYAKUMAR M         CPM   \n",
      "1302   Page269_Line5  3.LUCKY R. PERUMAL @KALIAPERUMAL M        ADMK   \n",
      "\n",
      "     Votes_received Votes_received_perc  \n",
      "0            286582              43.14%  \n",
      "1            200217              30.14%  \n",
      "2            175762              26.46%  \n",
      "3              1792               0.27%  \n",
      "4            299904              50.55%  \n",
      "...             ...                 ...  \n",
      "1298          65008               9.48%  \n",
      "1299          35026               5.11%  \n",
      "1300           1073               0.16%  \n",
      "1301         335376              46.87%  \n",
      "1302         102622              25.10%  \n",
      "\n",
      "[1303 rows x 5 columns]\n"
     ]
    }
   ],
   "source": [
    "text = 'Page269_Line5:3.LUCKY R. PERUMAL @KALIAPERUMAL M ADMK 102622 25.10%'\n",
    "\n",
    "replace_hashnum = text.replace('#Num!','0.00%')\n",
    "remove_uncontested = replace_hashnum.replace(' RETURNED UNCONTESTED','').strip()\n",
    "remove_newline = remove_uncontested.replace('\\n','')\n",
    "results_line = remove_newline.split(':')\n",
    "results = results_line[1].split(' ')\n",
    "                #candidate_position = remove_newline.split(':')[1].split('.')[0]\n",
    "                #print(candidate_position)\n",
    "party = results[-3]\n",
    "votes = results[-2]\n",
    "votes_perc = results[-1]\n",
    "contains_candidate = results[:-3]\n",
    "candidate_with_pos = ''\n",
    "for parts in range(0,len(contains_candidate)):\n",
    "    candidate_with_pos += contains_candidate[parts]+' '\n",
    "    candidate = re.sub(position,'',candidate_with_pos).strip()\n",
    "    dict_result_text_lines[results_line[0]] = [candidate,party,votes,votes_perc]\n",
    "                \n",
    "df_results_text_lines = pd.DataFrame(dict_result_text_lines).T\n",
    "df_results_text_lines.reset_index(inplace=True)\n",
    "df_results_text_lines.columns = ['Result_line','Candidate','Party','Votes_received','Votes_received_perc']\n",
    "print(df_results_text_lines)"
   ]
  },
  {
   "cell_type": "code",
   "execution_count": null,
   "id": "57251e30",
   "metadata": {},
   "outputs": [],
   "source": []
  }
 ],
 "metadata": {
  "kernelspec": {
   "display_name": "Python 3 (ipykernel)",
   "language": "python",
   "name": "python3"
  },
  "language_info": {
   "codemirror_mode": {
    "name": "ipython",
    "version": 3
   },
   "file_extension": ".py",
   "mimetype": "text/x-python",
   "name": "python",
   "nbconvert_exporter": "python",
   "pygments_lexer": "ipython3",
   "version": "3.9.13"
  }
 },
 "nbformat": 4,
 "nbformat_minor": 5
}
