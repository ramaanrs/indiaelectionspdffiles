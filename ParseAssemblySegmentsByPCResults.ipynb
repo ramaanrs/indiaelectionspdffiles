{
 "cells": [
  {
   "cell_type": "code",
   "execution_count": 13,
   "id": "ef2326a5",
   "metadata": {},
   "outputs": [
    {
     "name": "stdout",
     "output_type": "stream",
     "text": [
      " 2004 (14th LOK SABHA)\n"
     ]
    }
   ],
   "source": [
    "# Parse Vol III text file to get detailed results\n",
    "# From the extract,get the block begin lines and block end lines and store those line numbers in a list\n",
    "import re\n",
    "with open('F:/Ramaa/CoolResearch/IndiaElectionsStudies/LokSabhaElections/All_1951_2019_RawFiles/Text/Text2004(Vol-III).txt','r') as result_file:\n",
    "    for line in result_file:\n",
    "        if line.find('Election Commission of India – General Elections,') >= 0:\n",
    "            election_year = line.replace('\\n','').split(',')[-1]\n",
    "    print(election_year)\n",
    "result_file.close()\n",
    "\n",
    "# get the page numbers and line numbers for all lines which have constituency and electors words in them. Former is where\n",
    "# the block begins and the latter is where the block ends\n",
    "block_begin_page = []\n",
    "block_end_page = []\n",
    "block_begin_line = []\n",
    "block_end_line = []\n",
    "with open('F:/Ramaa/CoolResearch/IndiaElectionsStudies/LokSabhaElections/All_1951_2019_RawFiles/Text/Text2004(Vol-III).txt','r') as result_file:\n",
    "    for line in result_file:\n",
    "        if line.find('AC Number and AC Nam') >= 0:\n",
    "            #print(line)\n",
    "            begin_page_number = int(line.split('_')[0].replace('Page',''))\n",
    "            block_begin_page.append(begin_page_number)\n",
    "            begin_line_number = int(line.split(':')[0].split('_')[1].replace('Line',''))\n",
    "            block_begin_line.append(begin_line_number)\n",
    "    \n",
    "        #if line.find('ELECTORS') >= 0:\n",
    "        if line.find('Total Valid Votes for the AC :') >= 0:\n",
    "        #print(line)\n",
    "            end_page_number = int(line.split('_')[0].replace('Page',''))\n",
    "            block_end_page.append(end_page_number)\n",
    "            end_line_number = int(line.split(':')[0].split('_')[1].replace('Line',''))\n",
    "            block_end_line.append(end_line_number)\n",
    "#    print(block_begin_page)\n",
    "#    print(block_begin_line)\n",
    "#    print(block_end_page)\n",
    "#    print(block_end_line)\n",
    "result_file.close()"
   ]
  },
  {
   "cell_type": "code",
   "execution_count": 14,
   "id": "33f0b417",
   "metadata": {},
   "outputs": [
    {
     "name": "stdout",
     "output_type": "stream",
     "text": [
      "Block_begin_page: 4145\n",
      "Result_Constituency_index: 40019\n",
      "Constituency_Electors_index: 4145\n"
     ]
    }
   ],
   "source": [
    "# Parse Vol III text file to get detailed results\n",
    "# Get a dictionary with page_line_number for result line as key and constituency line as value\n",
    "# Get a dictionary with page_line_number for constituency as key and elector line as value\n",
    "# Store the results in a pandas dataframe\n",
    "import pandas as pd\n",
    "dict_result_cons_line = {}\n",
    "dict_cons_elector_line = {}\n",
    "num_constituencies = len(block_begin_page)\n",
    "for page_number in range(0,num_constituencies):\n",
    "    begin_page = block_begin_page[page_number]\n",
    "    end_page = block_end_page[page_number]\n",
    "    begin_line = block_begin_line[page_number]\n",
    "    end_line = block_end_line[page_number]\n",
    "    \n",
    "    dict_cons_elector_line['Page'+str(begin_page)+'_'+'Line'+str(begin_line)] = 'Page'+str(end_page)+'_'+'Line'+str(end_line)\n",
    "    \n",
    "    for result_line in range(begin_line+1,end_line):\n",
    "        dict_result_cons_line['Page'+str(begin_page)+'_'+'Line'+str(result_line)] = 'Page'+str(begin_page)+'_'+'Line'+str(begin_line)\n",
    "    \n",
    "df_result_cons_index = pd.DataFrame(list(dict_result_cons_line.items()),columns  = ['Result_line','Cons_line'])\n",
    "df_cons_elector_index = pd.DataFrame(list(dict_cons_elector_line.items()),columns  = ['Cons_line','votes_line'])\n",
    "\n",
    "print('Block_begin_page: '+ str(len(block_begin_page)))\n",
    "print('Result_Constituency_index: '+ str(len(df_result_cons_index)))\n",
    "print('Constituency_Electors_index: '+ str(len(df_cons_elector_index)))"
   ]
  },
  {
   "cell_type": "code",
   "execution_count": 15,
   "id": "b8caf1ff",
   "metadata": {},
   "outputs": [
    {
     "name": "stdout",
     "output_type": "stream",
     "text": [
      "           Result_line        Cons_line\n",
      "0          Page8_Line5      Page8_Line4\n",
      "1          Page8_Line6      Page8_Line4\n",
      "2          Page8_Line7      Page8_Line4\n",
      "3          Page8_Line8      Page8_Line4\n",
      "4          Page8_Line9      Page8_Line4\n",
      "...                ...              ...\n",
      "40014  Page1331_Line41  Page1331_Line24\n",
      "40015  Page1331_Line42  Page1331_Line24\n",
      "40016  Page1331_Line43  Page1331_Line24\n",
      "40017  Page1331_Line44  Page1331_Line24\n",
      "40018  Page1331_Line45  Page1331_Line24\n",
      "\n",
      "[40019 rows x 2 columns]\n"
     ]
    }
   ],
   "source": [
    "print(df_result_cons_index)"
   ]
  },
  {
   "cell_type": "code",
   "execution_count": 16,
   "id": "822646e1",
   "metadata": {},
   "outputs": [
    {
     "name": "stdout",
     "output_type": "stream",
     "text": [
      "            Cons_line       votes_line\n",
      "0         Page8_Line4     Page8_Line10\n",
      "1        Page8_Line11     Page8_Line17\n",
      "2        Page8_Line18     Page8_Line24\n",
      "3        Page8_Line25     Page8_Line31\n",
      "4        Page8_Line32     Page8_Line38\n",
      "...               ...              ...\n",
      "4140  Page1329_Line24  Page1329_Line46\n",
      "4141   Page1330_Line1  Page1330_Line23\n",
      "4142  Page1330_Line24  Page1330_Line46\n",
      "4143   Page1331_Line1  Page1331_Line23\n",
      "4144  Page1331_Line24  Page1331_Line46\n",
      "\n",
      "[4145 rows x 2 columns]\n"
     ]
    }
   ],
   "source": [
    "print(df_cons_elector_index)"
   ]
  },
  {
   "cell_type": "code",
   "execution_count": 17,
   "id": "91b86934",
   "metadata": {},
   "outputs": [
    {
     "name": "stdout",
     "output_type": "stream",
     "text": [
      "4145\n",
      "            Cons_line                  ac_name           Election_year\n",
      "0         Page8_Line4           1-Icha purame    2004 (14th LOK SABHA)\n",
      "1        Page8_Line11             2-Som petae    2004 (14th LOK SABHA)\n",
      "2        Page8_Line18              3-Tekkalie    2004 (14th LOK SABHA)\n",
      "3        Page8_Line25  4-Harishchandra Purame    2004 (14th LOK SABHA)\n",
      "4        Page8_Line32       5-Narasanna petae    2004 (14th LOK SABHA)\n",
      "...               ...                      ...                     ...\n",
      "4140  Page1329_Line24          26-Tirunallare    2004 (14th LOK SABHA)\n",
      "4141   Page1330_Line1           27-Neduncadue    2004 (14th LOK SABHA)\n",
      "4142  Page1330_Line24                28-Mahee    2004 (14th LOK SABHA)\n",
      "4143   Page1331_Line1             29-Palloore    2004 (14th LOK SABHA)\n",
      "4144  Page1331_Line24               30-Yaname    2004 (14th LOK SABHA)\n",
      "\n",
      "[4145 rows x 3 columns]\n"
     ]
    }
   ],
   "source": [
    "# Parse Vol III text file to get detailed results\n",
    "# Get the ac line and the results line\n",
    "# Store it in a pandas dataframe with page_number, line_number index\n",
    "import re\n",
    "\n",
    "dict_cons_text_lines = {}\n",
    "\n",
    "with open('F:/Ramaa/CoolResearch/IndiaElectionsStudies/LokSabhaElections/All_1951_2019_RawFiles/Text/Text2004(Vol-III).txt', 'r') as read_file:\n",
    "    for row in read_file:\n",
    "        #if row.find('Constituency  :') >= 0:\n",
    "        for page_line_index in dict_cons_elector_line:\n",
    "            if row.startswith(page_line_index + ':'):\n",
    "                remove_newline = row.replace(' \\n','').strip()\n",
    "                remove_acnum_acname_text = remove_newline.replace(' AC Number and AC Nam','').strip()\n",
    "                cons_line = remove_acnum_acname_text.split(':')\n",
    "                ac_name = cons_line[1]\n",
    "                dict_cons_text_lines[cons_line[0]] = [ac_name]\n",
    "            \n",
    "read_file.close()\n",
    "\n",
    "df_cons_text_lines = pd.DataFrame(dict_cons_text_lines).T\n",
    "df_cons_text_lines.reset_index(inplace=True)\n",
    "#df_cons_text_lines.columns = ['Cons_line','Constituency','Num_Seats']\n",
    "df_cons_text_lines.columns = ['Cons_line','ac_name']\n",
    "# Add a new column election year to the pandas dataframe\n",
    "df_cons_text_lines['Election_year'] = election_year\n",
    "print(len(df_cons_text_lines))\n",
    "print(df_cons_text_lines)"
   ]
  },
  {
   "cell_type": "code",
   "execution_count": 23,
   "id": "b86f8aed",
   "metadata": {},
   "outputs": [
    {
     "name": "stdout",
     "output_type": "stream",
     "text": [
      "4145\n",
      "           votes_line total_votes_by_ac\n",
      "0        Page8_Line10             96078\n",
      "1        Page8_Line17            100028\n",
      "2        Page8_Line24            103495\n",
      "3        Page8_Line31            106250\n",
      "4        Page8_Line38             97658\n",
      "...               ...               ...\n",
      "4140  Page1329_Line46             12892\n",
      "4141  Page1330_Line23             12823\n",
      "4142  Page1330_Line46              7530\n",
      "4143  Page1331_Line23              8787\n",
      "4144  Page1331_Line46             16382\n",
      "\n",
      "[4145 rows x 2 columns]\n"
     ]
    }
   ],
   "source": [
    "# Parse Vol III text file to get detailed results\n",
    "# Get the Total Valid Votes for the AC\n",
    "# Store it in a pandas dataframe with page_number, line_number index\n",
    "import re\n",
    "\n",
    "dict_cons_votes_lines = {}\n",
    "\n",
    "with open('F:/Ramaa/CoolResearch/IndiaElectionsStudies/LokSabhaElections/All_1951_2019_RawFiles/Text/Text2004(Vol-III).txt', 'r') as read_file:\n",
    "    for row in read_file:\n",
    "        #if row.find('Constituency  :') >= 0:\n",
    "        for page_line_index,vote_line_index in dict_cons_elector_line.items():\n",
    "            if row.startswith(vote_line_index + ':'):\n",
    "                remove_newline = row.replace(' \\n','').strip()\n",
    "                remove_text = remove_newline.replace(' Total Valid Votes for the AC ','').strip()\n",
    "                votes_line = remove_text.split(':')\n",
    "                total_votes_by_ac = votes_line[1]\n",
    "                dict_cons_votes_lines[votes_line[0]] = [total_votes_by_ac]\n",
    "            \n",
    "read_file.close()\n",
    "\n",
    "df_cons_votes_lines = pd.DataFrame(dict_cons_votes_lines).T\n",
    "df_cons_votes_lines.reset_index(inplace=True)\n",
    "#df_cons_text_lines.columns = ['Cons_line','Constituency','Num_Seats']\n",
    "df_cons_votes_lines.columns = ['votes_line','total_votes_by_ac']\n",
    "# Add a new column election year to the pandas dataframe\n",
    "#df_cons_votes_lines['Election_year'] = election_year\n",
    "print(len(df_cons_votes_lines))\n",
    "print(df_cons_votes_lines)"
   ]
  },
  {
   "cell_type": "code",
   "execution_count": 24,
   "id": "b7f0dd1d",
   "metadata": {},
   "outputs": [
    {
     "name": "stdout",
     "output_type": "stream",
     "text": [
      "4145\n",
      "       Cons_line                  ac_name           Election_year  \\\n",
      "0    Page8_Line4           1-Icha purame    2004 (14th LOK SABHA)   \n",
      "1   Page8_Line11             2-Som petae    2004 (14th LOK SABHA)   \n",
      "2   Page8_Line18              3-Tekkalie    2004 (14th LOK SABHA)   \n",
      "3   Page8_Line25  4-Harishchandra Purame    2004 (14th LOK SABHA)   \n",
      "4   Page8_Line32       5-Narasanna petae    2004 (14th LOK SABHA)   \n",
      "5   Page8_Line39       15-Amadalavalasae    2004 (14th LOK SABHA)   \n",
      "6   Page8_Line46          16-Srikakulame    2004 (14th LOK SABHA)   \n",
      "7   Page10_Line2          6-Pata patname    2004 (14th LOK SABHA)   \n",
      "8   Page10_Line8              7-Kothurue    2004 (14th LOK SABHA)   \n",
      "9  Page10_Line14              8-Na gurue    2004 (14th LOK SABHA)   \n",
      "\n",
      "  total_votes_by_ac  \n",
      "0             96078  \n",
      "1            100028  \n",
      "2            103495  \n",
      "3            106250  \n",
      "4             97658  \n",
      "5             88598  \n",
      "6            130749  \n",
      "7             86478  \n",
      "8             94866  \n",
      "9             93350  \n"
     ]
    }
   ],
   "source": [
    "# Parse Vol III text file to get detailed results\n",
    "# join df_cons_text_lines (cons_line,ac_name),df_cons_votes_lines (votes_line,total_votes_by_ac,Election_year),\n",
    "# df_result_text_lines (Result_line,Results) to get all candidate details, constituency, number_of_seats, election year in one line\n",
    "\n",
    "df_ac_text = pd.merge(df_cons_elector_index,df_cons_text_lines,on='Cons_line')\n",
    "df_ac_votes = pd.merge(df_ac_text,df_cons_votes_lines,on='votes_line')\n",
    "df_ac_votes.drop(columns=['votes_line'],axis=1,inplace=True)\n",
    "print(len(df_ac_votes))\n",
    "print(df_ac_votes.head(10))"
   ]
  },
  {
   "cell_type": "code",
   "execution_count": 19,
   "id": "9d55a71f",
   "metadata": {},
   "outputs": [
    {
     "name": "stdout",
     "output_type": "stream",
     "text": [
      "40019\n",
      "           Result_line        Cons_line                 candidate party  \\\n",
      "0          Page8_Line5      Page8_Line4    YERRANNAIDU KINJARAPU    TDP   \n",
      "1          Page8_Line6      Page8_Line4          KILLI KRUPARANI    INC   \n",
      "2          Page8_Line7      Page8_Line4     DUNGA RANGARAO NAIDU    IND   \n",
      "3          Page8_Line8      Page8_Line4      MYLAPALLI LAKSHMUDU    BSP   \n",
      "4          Page8_Line9      Page8_Line4  TAMMINENI JAGANMOHAN RA    IND   \n",
      "...                ...              ...                       ...   ...   \n",
      "40014  Page1331_Line41  Page1331_Line24                E. KUPPAN    IND   \n",
      "40015  Page1331_Line42  Page1331_Line24              J. RAMADASS    IND   \n",
      "40016  Page1331_Line43  Page1331_Line24             S. ELANGOVAN    IND   \n",
      "40017  Page1331_Line44  Page1331_Line24            G. KRISHNARAJ    IND   \n",
      "40018  Page1331_Line45  Page1331_Line24             R. NATARAJAN    IND   \n",
      "\n",
      "      votes_candidate_ac  \n",
      "0                  47062  \n",
      "1                  45118  \n",
      "2                   1251  \n",
      "3                   1828  \n",
      "4                    819  \n",
      "...                  ...  \n",
      "40014                 23  \n",
      "40015                 30  \n",
      "40016                  4  \n",
      "40017                  6  \n",
      "40018                 23  \n",
      "\n",
      "[40019 rows x 5 columns]\n"
     ]
    }
   ],
   "source": [
    "# Parse Vol III text file to get detailed results\n",
    "# Get the results lines for the ac\n",
    "# Store it in a pandas dataframe with page_number, line_number index\n",
    "import re\n",
    "\n",
    "dict_results_text_lines = {}\n",
    "\n",
    "with open('F:/Ramaa/CoolResearch/IndiaElectionsStudies/LokSabhaElections/All_1951_2019_RawFiles/Text/Text2004(Vol-III).txt', 'r') as read_file:\n",
    "    for row in read_file:\n",
    "        #if row.find('Constituency  :') >= 0:\n",
    "        for page_line_index,cons_line_index in dict_result_cons_line.items():\n",
    "            if row.startswith(page_line_index + ':'):\n",
    "                remove_newline = row.replace(' \\n','').strip()\n",
    "                results_line = remove_newline.split(':')\n",
    "                votes_candidate_line = results_line[1].split(' ')\n",
    "                votes_by_candidate_by_ac = votes_candidate_line[0]\n",
    "                party = votes_candidate_line[-1]\n",
    "                contains_candidate = votes_candidate_line[2:-1]\n",
    "                candidate = ''\n",
    "                for parts in range(0,len(contains_candidate)):\n",
    "                    candidate += contains_candidate[parts]+' '\n",
    "                dict_results_text_lines[results_line[0]] = [cons_line_index,candidate,party,votes_by_candidate_by_ac]\n",
    "            \n",
    "read_file.close()\n",
    "\n",
    "df_ac_results_lines = pd.DataFrame(dict_results_text_lines).T\n",
    "df_ac_results_lines.reset_index(inplace=True)\n",
    "#df_cons_text_lines.columns = ['Cons_line','Constituency','Num_Seats']\n",
    "df_ac_results_lines.columns = ['Result_line','Cons_line','candidate','party','votes_candidate_ac']\n",
    "# Add a new column election year to the pandas dataframe\n",
    "#df_cons_votes_lines['Election_year'] = election_year\n",
    "print(len(df_ac_results_lines))\n",
    "print(df_ac_results_lines)"
   ]
  },
  {
   "cell_type": "code",
   "execution_count": 25,
   "id": "b00dd03c",
   "metadata": {},
   "outputs": [
    {
     "name": "stdout",
     "output_type": "stream",
     "text": [
      "40019\n",
      "                  candidate party votes_candidate_ac         ac_name  \\\n",
      "0    YERRANNAIDU KINJARAPU    TDP              47062  1-Icha purame    \n",
      "1          KILLI KRUPARANI    INC              45118  1-Icha purame    \n",
      "2     DUNGA RANGARAO NAIDU    IND               1251  1-Icha purame    \n",
      "3      MYLAPALLI LAKSHMUDU    BSP               1828  1-Icha purame    \n",
      "4  TAMMINENI JAGANMOHAN RA    IND                819  1-Icha purame    \n",
      "5    YERRANNAIDU KINJARAPU    TDP              54317    2-Som petae    \n",
      "6          KILLI KRUPARANI    INC              42140    2-Som petae    \n",
      "7     DUNGA RANGARAO NAIDU    IND               1175    2-Som petae    \n",
      "8      MYLAPALLI LAKSHMUDU    BSP               1651    2-Som petae    \n",
      "9  TAMMINENI JAGANMOHAN RA    IND                745    2-Som petae    \n",
      "\n",
      "            Election_year total_votes_by_ac  \n",
      "0   2004 (14th LOK SABHA)             96078  \n",
      "1   2004 (14th LOK SABHA)             96078  \n",
      "2   2004 (14th LOK SABHA)             96078  \n",
      "3   2004 (14th LOK SABHA)             96078  \n",
      "4   2004 (14th LOK SABHA)             96078  \n",
      "5   2004 (14th LOK SABHA)            100028  \n",
      "6   2004 (14th LOK SABHA)            100028  \n",
      "7   2004 (14th LOK SABHA)            100028  \n",
      "8   2004 (14th LOK SABHA)            100028  \n",
      "9   2004 (14th LOK SABHA)            100028  \n"
     ]
    }
   ],
   "source": [
    "# merge df_ac_votes (Cons_line, ac, votes,election_year),df_ac_results_lines (Result_line, \n",
    "# candidate,party,votes_candidate_ac)\n",
    "df_ac_votes_results = df_ac_results_lines.merge(df_ac_votes, on = 'Cons_line', how='left')\n",
    "df_ac_votes_results.drop(columns=['Result_line','Cons_line'],axis=1,inplace=True)\n",
    "df_ac_votes_results.drop_duplicates()\n",
    "print(len(df_ac_votes_results))\n",
    "print(df_ac_votes_results.head(10))"
   ]
  },
  {
   "cell_type": "code",
   "execution_count": 26,
   "id": "a649bcac",
   "metadata": {},
   "outputs": [],
   "source": [
    "import os\n",
    "df_ac_votes_results.to_csv('F:/Ramaa/CoolResearch/IndiaElectionsStudies/LokSabhaElections/All_1951_2019/Assembly_PC_info/2004_pc_ac_info.csv')"
   ]
  },
  {
   "cell_type": "code",
   "execution_count": null,
   "id": "4c601a2b",
   "metadata": {},
   "outputs": [],
   "source": []
  }
 ],
 "metadata": {
  "kernelspec": {
   "display_name": "Python 3 (ipykernel)",
   "language": "python",
   "name": "python3"
  },
  "language_info": {
   "codemirror_mode": {
    "name": "ipython",
    "version": 3
   },
   "file_extension": ".py",
   "mimetype": "text/x-python",
   "name": "python",
   "nbconvert_exporter": "python",
   "pygments_lexer": "ipython3",
   "version": "3.9.13"
  }
 },
 "nbformat": 4,
 "nbformat_minor": 5
}
