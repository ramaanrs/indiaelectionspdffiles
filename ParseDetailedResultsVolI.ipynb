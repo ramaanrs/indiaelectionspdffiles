{
 "cells": [
  {
   "cell_type": "code",
   "execution_count": null,
   "id": "09a93c06",
   "metadata": {},
   "outputs": [],
   "source": [
    "Text2009_ConstituencyWiseDetailedResult# If line contains the words rptDetailedResults, remove that line\n",
    "# if line contains the words _Line0, remove that line (Line0:No. CANDIDATE PARTY VOTES %GENERAL ELECTIONS - INDIA)"
   ]
  },
  {
   "cell_type": "code",
   "execution_count": 144,
   "id": "b9b59e4c",
   "metadata": {},
   "outputs": [
    {
     "name": "stdout",
     "output_type": "stream",
     "text": [
      "['Page192', 'Page193', 'Page194', 'Page195', 'Page196', 'Page197', 'Page198', 'Page199', 'Page200', 'Page201', 'Page202', 'Page203', 'Page204', 'Page205', 'Page206', 'Page207', 'Page208', 'Page209', 'Page210', 'Page211', 'Page212', 'Page213', 'Page214', 'Page215', 'Page216', 'Page217', 'Page218', 'Page219', 'Page220', 'Page221', 'Page222', 'Page223', 'Page224', 'Page225', 'Page226', 'Page227', 'Page228', 'Page229', 'Page230', 'Page231', 'Page232', 'Page233', 'Page234', 'Page235', 'Page236', 'Page237', 'Page238', 'Page239', 'Page240', 'Page241', 'Page242', 'Page243', 'Page244', 'Page245', 'Page246', 'Page247', 'Page248', 'Page249', 'Page250', 'Page251', 'Page252', 'Page253', 'Page254', 'Page255', 'Page256', 'Page257', 'Page258', 'Page259', 'Page260', 'Page261', 'Page262', 'Page263', 'Page264', 'Page265', 'Page266', 'Page267', 'Page268', 'Page269', 'Page270', 'Page271', 'Page272', 'Page273', 'Page274', 'Page275', 'Page276', 'Page277', 'Page278', 'Page279', 'Page280', 'Page281', 'Page282', 'Page283', 'Page284', 'Page285', 'Page286', 'Page287', 'Page288', 'Page289', 'Page290', 'Page291', 'Page292', 'Page293', 'Page294', 'Page295', 'Page296', 'Page297', 'Page298', 'Page299', 'Page300', 'Page301', 'Page302', 'Page303', 'Page304', 'Page305', 'Page306', 'Page307', 'Page308', 'Page309', 'Page310', 'Page311', 'Page312', 'Page313', 'Page314', 'Page315', 'Page316', 'Page317', 'Page318', 'Page319', 'Page320', 'Page321', 'Page322', 'Page323', 'Page324', 'Page325', 'Page326', 'Page327', 'Page328', 'Page329', 'Page330', 'Page331', 'Page332', 'Page333', 'Page334', 'Page335', 'Page336', 'Page337', 'Page338', 'Page339', 'Page340', 'Page341', 'Page342', 'Page343', 'Page344', 'Page345', 'Page346', 'Page347', 'Page348', 'Page349', 'Page350', 'Page351', 'Page352', 'Page353', 'Page354', 'Page355', 'Page356', 'Page357', 'Page358', 'Page359', 'Page360', 'Page361']\n"
     ]
    }
   ],
   "source": [
    "# Parse Vol I text file to get detailed results\n",
    "\n",
    "# get the detailed_results pages\n",
    "detailed_results_pages = []\n",
    "with open('F:/Ramaa/CoolResearch/IndiaElectionsStudies/LokSabhaElections/All_1951_2019_RawFiles/Text/Text2004(Vol-I).txt', 'r') as f:\n",
    "    for row in f:\n",
    "        if row.find('rptDetailedResults') >= 0:\n",
    "            line = row.split('_')\n",
    "            detailed_results_pages.append(line[0])\n",
    "    print(detailed_results_pages)\n",
    "f.close()\n",
    "\n",
    "# extract detailed results pages from the list detailed_results_pages generated from previous block \n",
    "#write_file=open('F:/Ramaa/CoolResearch/IndiaElectionsStudies/LokSabhaElections/1951/1951DetailedResultPages.txt','a')\n",
    "write_file=open('F:/Ramaa/CoolResearch/IndiaElectionsStudies/LokSabhaElections/All_1951_2019_RawFiles/DetailedResultsText/2004DetailedResultPages.txt','a')\n",
    "\n",
    "with open('F:/Ramaa/CoolResearch/IndiaElectionsStudies/LokSabhaElections/All_1951_2019_RawFiles/Text/Text2004(Vol-I).txt', 'r') as read_file:\n",
    "    for line in read_file:\n",
    "        for page in detailed_results_pages:\n",
    "            if line.startswith(page + '_') == True:\n",
    "                write_file.write(line)\n",
    "                \n",
    "write_file.close()"
   ]
  },
  {
   "cell_type": "code",
   "execution_count": 150,
   "id": "672bd28b",
   "metadata": {
    "scrolled": true
   },
   "outputs": [
    {
     "name": "stdout",
     "output_type": "stream",
     "text": [
      " 19 67 (4 th LOK SABHA) \n",
      "[111, 111, 111, 111, 111, 111, 111, 112, 112, 112, 112, 112, 112, 112, 112, 113, 113, 113, 113, 113, 113, 113, 114, 114, 114, 114, 114, 114, 114, 114, 115, 115, 115, 115, 115, 115, 116, 116, 116, 116, 116, 116, 116, 117, 117, 117, 117, 117, 117, 117, 117, 118, 118, 118, 118, 118, 118, 118, 119, 119, 119, 119, 119, 119, 120, 120, 120, 120, 120, 121, 121, 121, 121, 121, 121, 121, 122, 122, 122, 122, 122, 122, 123, 123, 123, 123, 123, 123, 124, 124, 124, 124, 125, 125, 125, 125, 125, 125, 126, 126, 126, 126, 126, 127, 127, 127, 127, 127, 128, 128, 128, 128, 128, 128, 128, 128, 129, 129, 129, 129, 129, 129, 129, 129, 130, 130, 130, 130, 130, 130, 130, 130, 131, 131, 131, 131, 131, 131, 132, 132, 132, 132, 133, 133, 133, 133, 133, 133, 133, 134, 134, 134, 134, 134, 134, 135, 135, 135, 135, 135, 135, 135, 136, 136, 136, 136, 136, 136, 137, 137, 137, 137, 137, 137, 137, 138, 138, 138, 138, 138, 138, 138, 138, 139, 139, 139, 139, 139, 139, 139, 140, 140, 140, 140, 140, 140, 140, 140, 141, 141, 141, 141, 141, 141, 141, 141, 142, 142, 142, 142, 142, 142, 142, 142, 142, 143, 143, 143, 143, 143, 143, 143, 143, 144, 144, 144, 144, 144, 144, 145, 145, 145, 145, 145, 145, 145, 146, 146, 146, 146, 146, 146, 146, 147, 147, 147, 147, 147, 147, 148, 148, 148, 148, 148, 148, 148, 148, 149, 149, 149, 149, 149, 149, 149, 149, 150, 150, 150, 150, 150, 150, 150, 150, 151, 151, 151, 151, 151, 151, 151, 152, 152, 152, 152, 152, 152, 152, 153, 153, 153, 153, 153, 153, 153, 153, 154, 154, 154, 154, 154, 154, 154, 154, 155, 155, 155, 155, 155, 155, 155, 155, 156, 156, 156, 156, 156, 156, 156, 157, 157, 157, 157, 157, 157, 158, 158, 158, 158, 158, 159, 159, 159, 159, 159, 160, 160, 160, 160, 160, 160, 161, 161, 161, 161, 161, 161, 161, 161, 162, 162, 162, 162, 162, 162, 163, 163, 163, 163, 163, 164, 164, 164, 164, 164, 164, 165, 165, 165, 165, 166, 166, 166, 166, 166, 167, 167, 167, 167, 167, 167, 167, 168, 168, 168, 168, 168, 168, 168, 168, 169, 169, 169, 169, 169, 169, 170, 170, 170, 170, 170, 171, 171, 171, 171, 171, 171, 172, 172, 172, 172, 172, 172, 172, 173, 173, 173, 173, 173, 174, 174, 174, 174, 174, 175, 175, 175, 175, 175, 176, 176, 176, 176, 176, 176, 177, 177, 177, 177, 178, 178, 178, 178, 178, 178, 178, 179, 179, 179, 179, 179, 179, 179, 179, 180, 180, 180, 180, 180, 180, 180, 181, 181, 181, 181, 181, 181, 181, 181, 181, 182, 182, 182, 182, 182, 182, 182, 182, 183, 183, 183, 183, 183, 183, 183, 183, 184, 184, 184, 184, 184, 184, 184, 184, 185, 185, 185, 185, 185, 185, 186, 186, 186, 186, 186, 187, 187, 187, 187, 188, 188, 188, 188, 188, 188, 188, 189, 189, 189, 189, 189]\n",
      "[11, 18, 22, 30, 38, 46, 52, 5, 16, 22, 28, 34, 42, 49, 66, 21, 27, 32, 37, 44, 52, 56, 3, 8, 14, 20, 26, 31, 37, 43, 12, 24, 35, 48, 58, 67, 11, 28, 34, 40, 46, 55, 63, 10, 15, 20, 27, 33, 42, 49, 53, 5, 14, 21, 28, 37, 45, 55, 23, 30, 39, 52, 60, 65, 24, 30, 38, 46, 52, 5, 15, 25, 32, 40, 46, 53, 9, 19, 27, 35, 42, 49, 22, 32, 40, 46, 51, 57, 8, 18, 30, 38, 5, 19, 30, 41, 49, 56, 8, 15, 21, 29, 35, 11, 29, 37, 48, 56, 4, 21, 29, 35, 42, 49, 55, 62, 2, 18, 23, 27, 33, 38, 43, 48, 3, 8, 12, 17, 21, 28, 35, 40, 12, 20, 25, 32, 43, 54, 16, 34, 47, 64, 7, 13, 20, 27, 34, 42, 53, 4, 18, 24, 69, 77, 87, 4, 10, 17, 24, 29, 35, 41, 3, 9, 19, 26, 32, 40, 11, 29, 35, 41, 50, 55, 59, 6, 12, 20, 25, 31, 35, 40, 46, 21, 29, 35, 42, 48, 54, 64, 20, 25, 32, 38, 42, 46, 51, 56, 5, 16, 25, 34, 42, 51, 60, 70, 5, 13, 19, 23, 27, 31, 36, 42, 46, 5, 10, 16, 23, 28, 33, 40, 48, 11, 18, 27, 33, 44, 51, 4, 16, 27, 33, 39, 43, 48, 11, 26, 32, 39, 44, 50, 58, 11, 30, 37, 44, 50, 58, 5, 15, 24, 35, 45, 53, 64, 73, 13, 27, 32, 37, 43, 48, 54, 59, 11, 27, 32, 41, 47, 54, 59, 64, 10, 17, 24, 32, 38, 45, 51, 11, 19, 33, 44, 53, 65, 73, 20, 24, 30, 35, 40, 47, 51, 56, 11, 19, 25, 31, 38, 43, 48, 55, 11, 19, 26, 32, 36, 41, 45, 51, 11, 29, 34, 38, 43, 50, 60, 4, 31, 41, 51, 61, 71, 10, 19, 25, 31, 39, 5, 19, 32, 44, 56, 8, 17, 25, 31, 38, 46, 5, 17, 22, 27, 32, 36, 42, 48, 6, 11, 16, 26, 36, 44, 11, 17, 28, 39, 51, 9, 15, 24, 34, 41, 51, 20, 36, 48, 57, 11, 31, 41, 48, 55, 5, 17, 29, 39, 55, 61, 66, 11, 27, 33, 38, 43, 50, 55, 62, 5, 12, 20, 26, 33, 42, 19, 37, 44, 50, 58, 6, 14, 23, 30, 37, 42, 5, 17, 26, 36, 46, 57, 66, 5, 16, 29, 41, 59, 4, 11, 20, 34, 43, 4, 12, 26, 33, 40, 12, 29, 43, 53, 59, 67, 17, 43, 51, 59, 5, 15, 22, 30, 37, 45, 54, 11, 17, 22, 26, 32, 36, 41, 49, 11, 29, 35, 47, 56, 66, 75, 11, 26, 30, 34, 39, 43, 48, 52, 56, 11, 28, 34, 38, 44, 49, 54, 58, 11, 23, 28, 33, 39, 44, 50, 56, 5, 14, 25, 35, 44, 54, 64, 73, 8, 13, 18, 26, 37, 53, 7, 17, 31, 40, 46, 24, 32, 41, 53, 4, 29, 35, 40, 48, 57, 65, 10, 17, 28, 36, 41]\n",
      "[111, 111, 111, 111, 111, 111, 111, 112, 112, 112, 112, 112, 112, 112, 113, 113, 113, 113, 113, 113, 113, 114, 114, 114, 114, 114, 114, 114, 114, 115, 115, 115, 115, 115, 115, 116, 116, 116, 116, 116, 116, 116, 117, 117, 117, 117, 117, 117, 117, 117, 117, 118, 118, 118, 118, 118, 118, 119, 119, 119, 119, 119, 119, 120, 120, 120, 120, 120, 120, 121, 121, 121, 121, 121, 121, 122, 122, 122, 122, 122, 122, 123, 123, 123, 123, 123, 123, 124, 124, 124, 124, 124, 125, 125, 125, 125, 125, 126, 126, 126, 126, 126, 127, 127, 127, 127, 127, 127, 128, 128, 128, 128, 128, 128, 128, 128, 129, 129, 129, 129, 129, 129, 129, 130, 130, 130, 130, 130, 130, 130, 130, 131, 131, 131, 131, 131, 131, 132, 132, 132, 132, 133, 133, 133, 133, 133, 133, 133, 133, 134, 134, 134, 134, 134, 135, 135, 135, 135, 135, 135, 135, 136, 136, 136, 136, 136, 136, 137, 137, 137, 137, 137, 137, 137, 138, 138, 138, 138, 138, 138, 138, 138, 139, 139, 139, 139, 139, 139, 139, 140, 140, 140, 140, 140, 140, 140, 140, 140, 141, 141, 141, 141, 141, 141, 141, 141, 142, 142, 142, 142, 142, 142, 142, 142, 142, 143, 143, 143, 143, 143, 143, 143, 144, 144, 144, 144, 144, 144, 144, 145, 145, 145, 145, 145, 145, 146, 146, 146, 146, 146, 146, 146, 147, 147, 147, 147, 147, 147, 147, 148, 148, 148, 148, 148, 148, 148, 149, 149, 149, 149, 149, 149, 149, 149, 150, 150, 150, 150, 150, 150, 150, 150, 151, 151, 151, 151, 151, 151, 151, 152, 152, 152, 152, 152, 152, 152, 153, 153, 153, 153, 153, 153, 153, 153, 154, 154, 154, 154, 154, 154, 154, 154, 155, 155, 155, 155, 155, 155, 155, 155, 156, 156, 156, 156, 156, 156, 156, 156, 157, 157, 157, 157, 157, 158, 158, 158, 158, 158, 158, 159, 159, 159, 159, 160, 160, 160, 160, 160, 160, 160, 161, 161, 161, 161, 161, 161, 161, 162, 162, 162, 162, 162, 162, 163, 163, 163, 163, 163, 164, 164, 164, 164, 164, 164, 165, 165, 165, 165, 166, 166, 166, 166, 166, 166, 167, 167, 167, 167, 167, 167, 168, 168, 168, 168, 168, 168, 168, 168, 169, 169, 169, 169, 169, 169, 170, 170, 170, 170, 170, 171, 171, 171, 171, 171, 171, 171, 172, 172, 172, 172, 172, 172, 172, 173, 173, 173, 173, 174, 174, 174, 174, 174, 175, 175, 175, 175, 175, 176, 176, 176, 176, 176, 176, 177, 177, 177, 177, 177, 178, 178, 178, 178, 178, 178, 179, 179, 179, 179, 179, 179, 179, 179, 180, 180, 180, 180, 180, 180, 180, 181, 181, 181, 181, 181, 181, 181, 181, 181, 182, 182, 182, 182, 182, 182, 182, 182, 183, 183, 183, 183, 183, 183, 183, 183, 183, 184, 184, 184, 184, 184, 184, 184, 185, 185, 185, 185, 185, 185, 186, 186, 186, 186, 186, 187, 187, 187, 187, 187, 188, 188, 188, 188, 188, 188, 189, 189, 189, 189, 189, 189]\n",
      "[16, 21, 28, 36, 44, 50, 56, 12, 21, 27, 33, 40, 45, 65, 20, 26, 31, 36, 43, 51, 55, 2, 7, 13, 19, 25, 30, 36, 42, 8, 20, 31, 44, 54, 63, 5, 27, 33, 39, 45, 52, 62, 6, 14, 19, 23, 31, 40, 47, 52, 58, 12, 19, 26, 34, 43, 53, 21, 29, 38, 50, 58, 63, 23, 29, 37, 45, 51, 60, 13, 23, 30, 38, 44, 51, 8, 18, 26, 34, 41, 48, 21, 31, 39, 45, 50, 56, 7, 17, 29, 37, 49, 17, 28, 39, 47, 55, 7, 14, 20, 28, 34, 5, 28, 36, 47, 55, 62, 19, 27, 33, 40, 47, 53, 60, 65, 17, 22, 26, 32, 37, 42, 47, 2, 7, 11, 16, 20, 27, 34, 39, 5, 18, 23, 30, 41, 52, 12, 30, 43, 60, 5, 12, 16, 23, 32, 39, 51, 60, 17, 22, 32, 75, 85, 2, 9, 16, 23, 28, 34, 40, 2, 8, 18, 25, 31, 39, 5, 28, 34, 40, 49, 54, 58, 5, 11, 19, 24, 30, 34, 39, 45, 20, 25, 33, 40, 46, 52, 62, 18, 23, 30, 37, 41, 45, 50, 55, 60, 15, 21, 30, 38, 47, 56, 66, 75, 11, 17, 22, 26, 30, 35, 41, 45, 50, 8, 15, 22, 27, 32, 39, 46, 8, 17, 25, 31, 42, 49, 55, 14, 25, 32, 38, 42, 46, 5, 25, 31, 38, 43, 49, 57, 5, 29, 36, 43, 49, 57, 63, 11, 20, 31, 41, 51, 60, 69, 9, 26, 31, 36, 42, 47, 53, 58, 7, 26, 31, 37, 45, 52, 57, 62, 6, 16, 22, 30, 37, 44, 50, 10, 15, 29, 40, 51, 61, 69, 19, 23, 29, 34, 39, 46, 50, 55, 6, 14, 23, 29, 36, 41, 46, 53, 5, 17, 25, 31, 35, 40, 44, 50, 5, 28, 33, 37, 42, 47, 59, 64, 29, 39, 49, 59, 69, 8, 18, 24, 30, 38, 47, 15, 30, 43, 54, 7, 15, 23, 29, 37, 42, 56, 15, 20, 26, 31, 35, 41, 47, 5, 10, 15, 25, 32, 42, 5, 15, 26, 37, 49, 7, 13, 23, 33, 40, 50, 16, 35, 47, 56, 5, 30, 40, 47, 54, 64, 13, 25, 35, 54, 60, 65, 5, 26, 32, 37, 42, 49, 54, 60, 4, 11, 19, 25, 32, 41, 15, 36, 43, 49, 57, 5, 13, 22, 29, 36, 41, 47, 13, 22, 32, 42, 53, 62, 72, 12, 25, 37, 55, 3, 10, 19, 33, 42, 3, 11, 25, 32, 39, 8, 28, 42, 52, 58, 66, 13, 42, 50, 56, 64, 11, 20, 28, 35, 43, 52, 5, 16, 21, 25, 31, 35, 40, 48, 5, 28, 33, 43, 52, 62, 71, 5, 25, 29, 33, 38, 42, 47, 51, 55, 5, 27, 33, 37, 43, 48, 53, 57, 8, 21, 26, 31, 37, 42, 48, 54, 61, 10, 21, 31, 40, 50, 60, 69, 7, 12, 17, 23, 34, 50, 5, 15, 29, 38, 44, 22, 30, 38, 51, 62, 27, 33, 38, 46, 55, 62, 5, 15, 24, 32, 39, 44]\n"
     ]
    }
   ],
   "source": [
    "# Parse Vol I text file to get detailed results\n",
    "# From the extract,get the block begin lines and block end lines and store those line numbers in a list\n",
    "import re\n",
    "with open('F:/Ramaa/CoolResearch/IndiaElectionsStudies/LokSabhaElections/All_1951_2019_RawFiles/DetailedResultsText/1967_2_DetailedResultPages.txt','r') as result_file:\n",
    "    for line in result_file:\n",
    "        if line.find('Election Commission of India, General Elections,') >= 0:\n",
    "            election_year = line.replace('\\n','').split(',')[-1].replace('\\t','')#.replace('\"','')\n",
    "    print(election_year)\n",
    "result_file.close()\n",
    "\n",
    "# get the page numbers and line numbers for all lines which have constituency and electors words in them. Former is where\n",
    "# the block begins and the latter is where the block ends\n",
    "block_begin_page = []\n",
    "block_end_page = []\n",
    "block_begin_line = []\n",
    "block_end_line = []\n",
    "overflow_begin_page = []\n",
    "overflow_begin_line = []\n",
    "overflow_end_page = []\n",
    "overflow_end_line = []\n",
    "\n",
    "with open('F:/Ramaa/CoolResearch/IndiaElectionsStudies/LokSabhaElections/All_1951_2019_RawFiles/DetailedResultsText/1967_2_DetailedResultPages.txt','r') as result_file:\n",
    "    for line in result_file:\n",
    "        if line.find(':Constituency') >= 0:\n",
    "            #print(line)\n",
    "            begin_page_number = int(line.split('_')[0].replace('Page',''))\n",
    "            block_begin_page.append(begin_page_number)\n",
    "            begin_line_number = int(line.split(':')[0].split('_')[1].replace('Line',''))\n",
    "            #begin_line_number = int(line.split(':')[0].split('_')[1].replace('Line',''))\n",
    "            block_begin_line.append(begin_line_number)\n",
    "    \n",
    "        #if line.find('ELECTORS') >= 0:\n",
    "        if line.find(':ELECTORS') >= 0:\n",
    "            #print(line)\n",
    "            end_page_number = int(line.split('_')[0].replace('Page',''))\n",
    "            block_end_page.append(end_page_number)\n",
    "            end_line_number = int(line.split(':')[0].split('_')[1].replace('Line',''))\n",
    "            block_end_line.append(end_line_number)\n",
    "            \n",
    "#        if line.find('No. CANDIDATE SEX PARTY VOTES %') >= 0:\n",
    "#        #print(line)\n",
    "#            overflow_begin_page_number = int(line.split('_')[0].replace('Page',''))\n",
    "#            overflow_begin_page.append(overflow_begin_page_number)\n",
    "#            overflow_begin_line_number = int(line.split(':')[0].split('_')[1].replace('Line',''))\n",
    "#            overflow_begin_line.append(overflow_begin_line_number)\n",
    "\n",
    "#        #if line.find('ELECTORS') >= 0:\n",
    "#        if line.find('rptDetailedResults') >= 0:\n",
    "#        #print(line)\n",
    "#            overflow_end_page_number = int(line.split('_')[0].replace('Page',''))\n",
    "#            overflow_end_page.append(overflow_end_page_number)\n",
    "#            overflow_end_line_number = int(line.split(':')[0].split('_')[1].replace('Line',''))\n",
    "#            overflow_end_line.append(overflow_end_line_number)\n",
    "            \n",
    "            \n",
    "print(block_begin_page)\n",
    "print(block_begin_line)\n",
    "print(block_end_page)\n",
    "print(block_end_line)\n",
    "result_file.close()"
   ]
  },
  {
   "cell_type": "code",
   "execution_count": 151,
   "id": "dfc9ad6e",
   "metadata": {},
   "outputs": [
    {
     "name": "stdout",
     "output_type": "stream",
     "text": [
      "Block_begin_page: 520\n",
      "Result_Constituency_index: 3906\n",
      "Constituency_Electors_index: 520\n"
     ]
    }
   ],
   "source": [
    "# Parse Vol I text file to get detailed results\n",
    "# Get a dictionary with page_line_number for result line as key and constituency line as value\n",
    "# Get a dictionary with page_line_number for constituency as key and elector line as value\n",
    "# Store the results in a pandas dataframe\n",
    "import pandas as pd\n",
    "dict_result_cons_line = {}\n",
    "dict_cons_elector_line = {}\n",
    "num_constituencies = len(block_begin_page)\n",
    "\n",
    "for page_number in range(0,num_constituencies):\n",
    "    begin_page = block_begin_page[page_number]\n",
    "    end_page = block_end_page[page_number]\n",
    "    begin_line = block_begin_line[page_number]\n",
    "    end_line = block_end_line[page_number]\n",
    "    #of_begin_page = overflow_begin_page[page_number]\n",
    "    #of_end_page = overflow_end_page[page_number]\n",
    "    #of_begin_line = overflow_begin_line[page_number]\n",
    "    #of_end_line = overflow_end_line[page_number]\n",
    "    \n",
    "    dict_cons_elector_line['Page'+str(begin_page)+'_'+'Line'+str(begin_line)] = 'Page'+str(end_page)+'_'+'Line'+str(end_line)\n",
    "    \n",
    "    if begin_page == end_page:\n",
    "        for result_line in range(begin_line+1,end_line):\n",
    "            dict_result_cons_line['Page'+str(begin_page)+'_'+'Line'+str(result_line)] = 'Page'+str(begin_page)+'_'+'Line'+str(begin_line)\n",
    "    else:\n",
    "        for result_line in range(begin_line+1,75):\n",
    "            dict_result_cons_line['Page'+str(begin_page)+'_'+'Line'+str(result_line)] = 'Page'+str(begin_page)+'_'+'Line'+str(begin_line)\n",
    "        for result_line in range(1,end_line):\n",
    "            dict_result_cons_line['Page'+str(begin_page+1)+'_'+'Line'+str(result_line)] = 'Page'+str(begin_page)+'_'+'Line'+str(begin_line)\n",
    "    #dict_cons_elector_line['Page'+str(begin_page)+'_'+'Line'+str(begin_line)] = 'Page'+str(end_page)+'_'+'Line'+str(end_line)\n",
    "    \n",
    "    #for result_line in range(begin_line+1,end_line):\n",
    "    #    dict_result_cons_line['Page'+str(begin_page)+'_'+'Line'+str(result_line)] = 'Page'+str(begin_page)+'_'+'Line'+str(begin_line)\n",
    "    \n",
    "df_result_cons_index = pd.DataFrame(list(dict_result_cons_line.items()),columns  = ['Result_line','Cons_line'])\n",
    "df_cons_elector_index = pd.DataFrame(list(dict_cons_elector_line.items()),columns  = ['Cons_line','Electors_line'])\n",
    "\n",
    "print('Block_begin_page: '+ str(len(block_begin_page)))\n",
    "print('Result_Constituency_index: '+ str(len(df_result_cons_index)))\n",
    "print('Constituency_Electors_index: '+ str(len(df_cons_elector_index)))"
   ]
  },
  {
   "cell_type": "code",
   "execution_count": 152,
   "id": "d45b77a3",
   "metadata": {},
   "outputs": [
    {
     "name": "stdout",
     "output_type": "stream",
     "text": [
      "        Result_line      Cons_line\n",
      "898   Page129_Line3  Page129_Line2\n",
      "899   Page129_Line4  Page129_Line2\n",
      "900   Page129_Line5  Page129_Line2\n",
      "901   Page129_Line6  Page129_Line2\n",
      "902   Page129_Line7  Page129_Line2\n",
      "903   Page129_Line8  Page129_Line2\n",
      "904   Page129_Line9  Page129_Line2\n",
      "905  Page129_Line10  Page129_Line2\n",
      "906  Page129_Line11  Page129_Line2\n",
      "907  Page129_Line12  Page129_Line2\n",
      "908  Page129_Line13  Page129_Line2\n",
      "909  Page129_Line14  Page129_Line2\n",
      "910  Page129_Line15  Page129_Line2\n",
      "911  Page129_Line16  Page129_Line2\n"
     ]
    }
   ],
   "source": [
    "print(df_result_cons_index.loc[df_result_cons_index['Cons_line']== 'Page129_Line2'])\n",
    "#Page119_Line23\n",
    "#print(df_result_cons_index)\n",
    "#df.loc[ df['Date'] == specific_date ]"
   ]
  },
  {
   "cell_type": "code",
   "execution_count": 167,
   "id": "30080ba0",
   "metadata": {},
   "outputs": [
    {
     "name": "stdout",
     "output_type": "stream",
     "text": [
      "          Cons_line   Electors_line\n",
      "0    Page111_Line11  Page111_Line16\n",
      "1    Page111_Line18  Page111_Line21\n",
      "2    Page111_Line22  Page111_Line28\n",
      "3    Page111_Line30  Page111_Line36\n",
      "4    Page111_Line38  Page111_Line44\n",
      "..              ...             ...\n",
      "515  Page189_Line10  Page189_Line15\n",
      "516  Page189_Line17  Page189_Line24\n",
      "517  Page189_Line28  Page189_Line32\n",
      "518  Page189_Line36  Page189_Line39\n",
      "519  Page189_Line41  Page189_Line44\n",
      "\n",
      "[520 rows x 2 columns]\n"
     ]
    }
   ],
   "source": [
    "#print(df_cons_elector_index.loc[df_cons_elector_index['Electors_line'] == 'Page129_Line17'])\n",
    "print(df_cons_elector_index)\n",
    "#Page119_Line29"
   ]
  },
  {
   "cell_type": "code",
   "execution_count": 127,
   "id": "b9a51238",
   "metadata": {},
   "outputs": [
    {
     "name": "stdout",
     "output_type": "stream",
     "text": [
      "2318\n",
      "         Result_line                                            Results\n",
      "0     Page111_Line13              1 . G. LATCHANNA M SWA 189771 56.37% \n",
      "1     Page111_Line14           2 . B. RAJAGOPALRAO M INC 129413 38.44% \n",
      "2     Page111_Line15                    3 . K.S. RAO M IND 17464 5.19% \n",
      "3     Page111_Line19                  1 . V.N. RAO M SWA 161009 56.21% \n",
      "4     Page111_Line20          2 . B. SATYANARAYANA M INC 125429 43.79% \n",
      "...              ...                                                ...\n",
      "2313  Page189_Line31                 3 . K. SUBBIAH M PFR 42725 26.89% \n",
      "2314  Page189_Line37           1 . J. K. CHOUDHURY M INC 125965 57.75% \n",
      "2315  Page189_Line38                2 . B. C. DUTTA M CPM 92143 42.25% \n",
      "2316  Page189_Line42  1 . S. M. M. K. B. K. D .BAHADUR M INC 129618 ...\n",
      "2317  Page189_Line43                     2 . D. DEB M CPM 91032 41.26% \n",
      "\n",
      "[2318 rows x 2 columns]\n"
     ]
    }
   ],
   "source": [
    "# Parse Vol I text file to get detailed results\n",
    "# Get the results lines and parse it\n",
    "# Store it in a pandas dataframe with page_number, line_number index\n",
    "# This cell not required\n",
    "import re\n",
    "#Page96_Line5\n",
    "#dict_result_cons_line\n",
    "dict_result_text_lines = {}\n",
    "\n",
    "with open('F:/Ramaa/CoolResearch/IndiaElectionsStudies/LokSabhaElections/All_1951_2019_RawFiles/DetailedResultsText/1967_2_DetailedResultPages.txt', 'r') as read_file:\n",
    "    for line in read_file:\n",
    "        for page_line_index in dict_result_cons_line:\n",
    "            if line.startswith(page_line_index+':') == True:\n",
    "            #if line.startswith(page_line_index+'\t ') == True:\n",
    "                #print(line)\n",
    "                remove_newline = line.replace('\\n','')\n",
    "                #print(remove_newline)\n",
    "                results_line = remove_newline.split(':')\n",
    "                dict_result_text_lines[results_line[0]] = results_line[1]\n",
    "read_file.close()\n",
    "\n",
    "df_result_text_lines = pd.DataFrame(list(dict_result_text_lines.items()),columns  = ['Result_line','Results'])\n",
    "print(len(df_result_text_lines))\n",
    "print(df_result_text_lines)"
   ]
  },
  {
   "cell_type": "code",
   "execution_count": 158,
   "id": "e28be0dd",
   "metadata": {
    "scrolled": false
   },
   "outputs": [
    {
     "name": "stdout",
     "output_type": "stream",
     "text": [
      "520\n",
      "          Cons_line        Constituency             Election_year\n",
      "0    Page111_Line11          SRIKAKULAM   19 67 (4 th LOK SABHA) \n",
      "1    Page111_Line18  PARVATHIPURAM (ST)   19 67 (4 th LOK SABHA) \n",
      "2    Page111_Line22             BOBBILI   19 67 (4 th LOK SABHA) \n",
      "3    Page111_Line30       VISAKHAPATNAM   19 67 (4 th LOK SABHA) \n",
      "4    Page111_Line38   BHADRACHALAM (ST)   19 67 (4 th LOK SABHA) \n",
      "..              ...                 ...                       ...\n",
      "515  Page189_Line10       INNER MANIPUR   19 67 (4 th LOK SABHA) \n",
      "516  Page189_Line17  OUTER MANIPUR (ST)   19 67 (4 th LOK SABHA) \n",
      "517  Page189_Line28         PONDICHERRY   19 67 (4 th LOK SABHA) \n",
      "518  Page189_Line36        TRIPURA WEST   19 67 (4 th LOK SABHA) \n",
      "519  Page189_Line41   TRIPURA EAST (ST)   19 67 (4 th LOK SABHA) \n",
      "\n",
      "[520 rows x 3 columns]\n"
     ]
    }
   ],
   "source": [
    "# Parse Vol I text file to get detailed results\n",
    "# Get the constituency line and parse it to get constituency and number of seats\n",
    "# Store it in a pandas dataframe with page_number, line_number index\n",
    "import re\n",
    "\n",
    "dict_cons_text_lines = {}\n",
    "cons_text = r'Constituency  [1-500]'\n",
    "#pos = r'[0-9] . '\n",
    "pos = r'[0-100]'\n",
    "seats_text = r'NUMBER OF SEATS'\n",
    "\n",
    "with open('F:/Ramaa/CoolResearch/IndiaElectionsStudies/LokSabhaElections/All_1951_2019_RawFiles/DetailedResultsText/1967_2_DetailedResultPages.txt', 'r') as read_file:\n",
    "    for row in read_file:\n",
    "        #if row.find('Constituency  :') >= 0:\n",
    "        for page_line_index in dict_cons_elector_line:\n",
    "            if row.startswith(page_line_index + ':'):\n",
    "                remove_cons = re.sub(cons_text,'',row)\n",
    "                remove_seats = re.sub(seats_text,'',remove_cons)\n",
    "                remove_newline = remove_seats.replace(' \\n','').strip()\n",
    "                cons_line = remove_newline.split(':')\n",
    "                #cons_line = remove_newline.split('\t')\n",
    "                cons = cons_line[1].split(' . ')[-1]\n",
    "                #contains_cons = cons_line[1].replace('Constituency  ','').replace(' NUMBER OF SEATS','').split(' ')[:-1]\n",
    "                #no_seats = cons_pre = cons_line[1].replace('Constituency  ','').replace(' NUMBER OF SEATS','').split(' ')[-1].strip()\n",
    "                #cons_with_pos = ''\n",
    "                #for parts in range(0,len(contains_cons)):\n",
    "                #    cons_with_pos += contains_cons[parts]+' '\n",
    "                #    cons_pre = re.sub(position,'',cons_with_pos).strip()\n",
    "                                #cons_pre = cons_line[1].replace('  CONSTITUENCY ','').strip()\n",
    "                #    cons = re.sub(pos,'',cons_pre).strip()\n",
    "                #total_electors = cons_line[2].replace(' ( Total Electors )','').replace(' .  ','').strip()\n",
    "            #constitution = ''\n",
    "            #len_cons_list = len(cons)\n",
    "            #for cons_words in range(0,len_cons_list):\n",
    "            #    constitution += cons[cons_words]+' '\n",
    "            #num_seats = cons_line[1].split(' ')[-1]\n",
    "            #dict_cons_text_lines[cons_line[0]] = [constitution,num_seats]\n",
    "                dict_cons_text_lines[cons_line[0]] = [cons]\n",
    "            \n",
    "read_file.close()\n",
    "\n",
    "df_cons_text_lines = pd.DataFrame(dict_cons_text_lines).T\n",
    "df_cons_text_lines.reset_index(inplace=True)\n",
    "df_cons_text_lines.columns = ['Cons_line','Constituency']\n",
    "#df_cons_text_lines.columns = ['Cons_line','Constituency']\n",
    "# Add a new column election year to the pandas dataframe\n",
    "df_cons_text_lines['Election_year'] = election_year\n",
    "print(len(df_cons_text_lines))\n",
    "print(df_cons_text_lines)"
   ]
  },
  {
   "cell_type": "code",
   "execution_count": 159,
   "id": "b8d4a93d",
   "metadata": {
    "scrolled": false
   },
   "outputs": [],
   "source": [
    "# Parse Vol I text file to get detailed results\n",
    "# Get the results lines and parse it\n",
    "# Store it in a pandas dataframe with page_number, line_number index\n",
    "import io\n",
    "dict_result_text_lines = {}\n",
    "position = r'[0-50] . '\n",
    "\n",
    "with open('F:/Ramaa/CoolResearch/IndiaElectionsStudies/LokSabhaElections/All_1951_2019_RawFiles/DetailedResultsText/1967_2_DetailedResultPages.txt', 'r') as read_file:\n",
    "    for line in read_file:\n",
    "        for page_line_index in dict_result_cons_line:\n",
    "            if line.startswith(page_line_index+':'): #and line.find('rptDetailedResults') == 0:\n",
    "                replace_hashnum = line.replace('#Num!','0.00%')\n",
    "                remove_uncontested = replace_hashnum.replace(' RETURNED UNCONTESTED','').strip()\n",
    "                remove_newline = remove_uncontested.replace('\\n','')\n",
    "                results_line = remove_newline.split(':')\n",
    "                results = results_line[1].split(' ')\n",
    "                #print(results)\n",
    "                #candidate_position = remove_newline.split(':')[1].split('.')[0]\n",
    "                #print(candidate_position)\n",
    "                party = results[-3]\n",
    "                #age_category_party = results[-6].split(' ')\n",
    "                #name_gender = results[-7].split(' ')\n",
    "                #party = age_category_party[2]\n",
    "                #print(page_line_index)\n",
    "                Gender = results[-4]\n",
    "                #Age = age_category_party[0]\n",
    "                #category = age_category_party[1]\n",
    "                votes_received = results[-2]\n",
    "                #votes_received_perc_over_electors = results[-1]\n",
    "                #votes_received_perc_over_votes_polled = results[-2]\n",
    "                votes_perc = results[-1]\n",
    "                contains_candidate = results[:-4]\n",
    "                #contains_candidate = name_gender[:-1]\n",
    "                candidate_with_pos = ''\n",
    "                for parts in range(0,len(contains_candidate)):\n",
    "                    candidate_with_pos += contains_candidate[parts]+' '\n",
    "                    candidate = re.sub(position,'',candidate_with_pos).strip()\n",
    "                #dict_result_text_lines[results_line[0]] = [candidate,party,Gender,Age,votes]\n",
    "                dict_result_text_lines[results_line[0]] = [candidate,Gender,party,votes_received,votes_perc]\n",
    "        #print(dict_result_text_lines)\n",
    "                \n",
    "df_results_text_lines = pd.DataFrame(dict_result_text_lines).T\n",
    "df_results_text_lines.reset_index(inplace=True)\n",
    "#df_results_text_lines.columns = ['Result_line','Candidate','Gender','Age','Category','Party','Votes_received','Votes_received_perc_over_electors','Votes_received_perc_over_votes_polled']\n",
    "df_results_text_lines.columns = ['Result_line','Candidate','Gender','Party','Votes_received','Votes_received_perc']"
   ]
  },
  {
   "cell_type": "code",
   "execution_count": 160,
   "id": "762197ff",
   "metadata": {},
   "outputs": [
    {
     "name": "stdout",
     "output_type": "stream",
     "text": [
      "         Result_line                     Candidate Gender Party  \\\n",
      "0     Page111_Line13                  G. LATCHANNA      M   SWA   \n",
      "1     Page111_Line14               B. RAJAGOPALRAO      M   INC   \n",
      "2     Page111_Line15                      K.S. RAO      M   IND   \n",
      "3     Page111_Line19                      V.N. RAO      M   SWA   \n",
      "4     Page111_Line20              B. SATYANARAYANA      M   INC   \n",
      "...              ...                           ...    ...   ...   \n",
      "2317  Page189_Line31                    K. SUBBIAH      M   PFR   \n",
      "2318  Page189_Line37               J. K. CHOUDHURY      M   INC   \n",
      "2319  Page189_Line38                   B. C. DUTTA      M   CPM   \n",
      "2320  Page189_Line42  S. M. M. K. B. K. D .BAHADUR      M   INC   \n",
      "2321  Page189_Line43                        D. DEB      M   CPM   \n",
      "\n",
      "     Votes_received Votes_received_perc  \n",
      "0            189771              56.37%  \n",
      "1            129413              38.44%  \n",
      "2             17464               5.19%  \n",
      "3            161009              56.21%  \n",
      "4            125429              43.79%  \n",
      "...             ...                 ...  \n",
      "2317          42725              26.89%  \n",
      "2318         125965              57.75%  \n",
      "2319          92143              42.25%  \n",
      "2320         129618              58.74%  \n",
      "2321          91032              41.26%  \n",
      "\n",
      "[2322 rows x 6 columns]\n"
     ]
    }
   ],
   "source": [
    "print(df_results_text_lines)"
   ]
  },
  {
   "cell_type": "code",
   "execution_count": 161,
   "id": "bf3b0543",
   "metadata": {},
   "outputs": [
    {
     "name": "stdout",
     "output_type": "stream",
     "text": [
      "2322\n",
      "         Constituency             Election_year         Candidate Gender  \\\n",
      "0          SRIKAKULAM   19 67 (4 th LOK SABHA)       G. LATCHANNA      M   \n",
      "1          SRIKAKULAM   19 67 (4 th LOK SABHA)    B. RAJAGOPALRAO      M   \n",
      "2          SRIKAKULAM   19 67 (4 th LOK SABHA)           K.S. RAO      M   \n",
      "3  PARVATHIPURAM (ST)   19 67 (4 th LOK SABHA)           V.N. RAO      M   \n",
      "4  PARVATHIPURAM (ST)   19 67 (4 th LOK SABHA)   B. SATYANARAYANA      M   \n",
      "5             BOBBILI   19 67 (4 th LOK SABHA)           K.N. RAO      M   \n",
      "6             BOBBILI   19 67 (4 th LOK SABHA)      S. SUBBINAIDU      M   \n",
      "7             BOBBILI   19 67 (4 th LOK SABHA)           C.S. RAO      M   \n",
      "8             BOBBILI   19 67 (4 th LOK SABHA)           A.A. RAO      M   \n",
      "9       VISAKHAPATNAM   19 67 (4 th LOK SABHA)     T. VISWANATHAM      M   \n",
      "\n",
      "  Party Votes_received Votes_received_perc  \n",
      "0   SWA         189771              56.37%  \n",
      "1   INC         129413              38.44%  \n",
      "2   IND          17464               5.19%  \n",
      "3   SWA         161009              56.21%  \n",
      "4   INC         125429              43.79%  \n",
      "5   INC         146553              44.29%  \n",
      "6   IND          71356              21.57%  \n",
      "7   IND          57128              17.27%  \n",
      "8   IND          55835              16.88%  \n",
      "9   IND         136766              42.04%  \n"
     ]
    }
   ],
   "source": [
    "# Parse Vol I text file to get detailed results\n",
    "# join df_result_cons_index (Result_line,Cons_line),df_cons_text_lines (Cons_line,Constituency,Election_year),\n",
    "# df_result_text_lines (Result_line,Results) to get all candidate details, constituency, number_of_seats, election year in one line\n",
    "\n",
    "df_cons_text = pd.merge(df_result_cons_index,df_cons_text_lines,on='Cons_line')\n",
    "df_candidate_results = pd.merge(df_cons_text,df_results_text_lines,on='Result_line')\n",
    "df_candidate_results.drop(columns=['Result_line', 'Cons_line'],axis=1,inplace=True)\n",
    "print(len(df_candidate_results))\n",
    "print(df_candidate_results.head(10))"
   ]
  },
  {
   "cell_type": "code",
   "execution_count": 162,
   "id": "c6760f5a",
   "metadata": {},
   "outputs": [],
   "source": [
    "import os\n",
    "df_candidate_results.to_csv('F:/Ramaa/CoolResearch/IndiaElectionsStudies/LokSabhaElections/All_1951_2019/DetailedResults/1967_1_candidate_cons.csv')\n"
   ]
  },
  {
   "cell_type": "code",
   "execution_count": 169,
   "id": "40447dd4",
   "metadata": {},
   "outputs": [],
   "source": [
    "# Parse Vol I text file to get detailed results\n",
    "# Get the elector lines and parse it\n",
    "# Store it in a pandas dataframe with page_number, line_number index\n",
    "\n",
    "dict_elector_text_lines = {}\n",
    "\n",
    "with open('F:/Ramaa/CoolResearch/IndiaElectionsStudies/LokSabhaElections/All_1951_2019_RawFiles/DetailedResultsText/1967_2_DetailedResultPages.txt', 'r') as read_file:\n",
    "    for line in read_file:\n",
    "        for cons_line_index,elector_line_index in dict_cons_elector_line.items():\n",
    "            if line.startswith(elector_line_index+':'):\n",
    "                remove_newline = line.replace('\\n','').replace(' TOTAL','').replace('ELECTORS : ','').replace('VALID VOTES ','').replace('VOTERS  : ','').replace('POLL PERCENTAGE  :','')\n",
    "                results_line = remove_newline.split('ELECTORS')\n",
    "                elector_line_index = results_line[0].replace(':','')\n",
    "                #print(elector_line_index)\n",
    "                #valid_votes = results_line[1].strip().split('\t')[1]\n",
    "                electors_info_line = results_line[1].strip().split('\\t')\n",
    "                #print(electors_info_line)\n",
    "                #total_vote_perc_over_total_electors = results_line[2].split('  ')[2]\n",
    "                #total_vote_perc_over_total_polled_votes = results_line[2].split('  ')[3]\n",
    "                electors = electors_info_line[-4].strip()\n",
    "                poll_perc = electors_info_line[-2].strip()\n",
    "                valid_votes = electors_info_line[-1].strip()\n",
    "                voters = electors_info_line[-3].strip()\n",
    "                #dict_elector_text_lines[elector_line_index] = [valid_votes,total_vote_perc_over_total_electors,total_vote_perc_over_total_polled_votes]\n",
    "                dict_elector_text_lines[elector_line_index] = [electors,voters,valid_votes,poll_perc]\n",
    "                \n",
    "df_elector_text_lines = pd.DataFrame(dict_elector_text_lines).T\n",
    "df_elector_text_lines.reset_index(inplace=True)\n",
    "df_elector_text_lines.columns = ['Electors_line','Electors','Voters','Valid_votes','Poll_perc']"
   ]
  },
  {
   "cell_type": "code",
   "execution_count": 170,
   "id": "78f52e86",
   "metadata": {},
   "outputs": [
    {
     "name": "stdout",
     "output_type": "stream",
     "text": [
      "520\n",
      "      Electors_line Electors  Voters Valid_votes Poll_perc\n",
      "0    Page111_Line16   490667  349154      336648    71.16%\n",
      "1    Page111_Line21   500375  307954      286438    61.54%\n",
      "2    Page111_Line28   485448  350963      330872    72.30%\n",
      "3    Page111_Line36   523617  340717      325335    65.07%\n",
      "4    Page111_Line44   465192  246715      234098    53.04%\n",
      "..              ...      ...     ...         ...       ...\n",
      "515  Page189_Line15   263495  204788      199320    77.72%\n",
      "516  Page189_Line24   219554  120008      115842    54.66%\n",
      "517  Page189_Line32   216689  162193      158872    74.85%\n",
      "518  Page189_Line39   296292  223765      218108    75.52%\n",
      "519  Page189_Line44   305672  226756      220650    74.18%\n",
      "\n",
      "[520 rows x 5 columns]\n"
     ]
    }
   ],
   "source": [
    "print(len(df_elector_text_lines))\n",
    "print(df_elector_text_lines)"
   ]
  },
  {
   "cell_type": "code",
   "execution_count": 171,
   "id": "ac547950",
   "metadata": {},
   "outputs": [
    {
     "name": "stdout",
     "output_type": "stream",
     "text": [
      "520\n",
      "           Constituency             Election_year Electors  Voters  \\\n",
      "0            SRIKAKULAM   19 67 (4 th LOK SABHA)    490667  349154   \n",
      "1    PARVATHIPURAM (ST)   19 67 (4 th LOK SABHA)    500375  307954   \n",
      "2               BOBBILI   19 67 (4 th LOK SABHA)    485448  350963   \n",
      "3         VISAKHAPATNAM   19 67 (4 th LOK SABHA)    523617  340717   \n",
      "4     BHADRACHALAM (ST)   19 67 (4 th LOK SABHA)    465192  246715   \n",
      "..                  ...                       ...      ...     ...   \n",
      "515       INNER MANIPUR   19 67 (4 th LOK SABHA)    263495  204788   \n",
      "516  OUTER MANIPUR (ST)   19 67 (4 th LOK SABHA)    219554  120008   \n",
      "517         PONDICHERRY   19 67 (4 th LOK SABHA)    216689  162193   \n",
      "518        TRIPURA WEST   19 67 (4 th LOK SABHA)    296292  223765   \n",
      "519   TRIPURA EAST (ST)   19 67 (4 th LOK SABHA)    305672  226756   \n",
      "\n",
      "    Valid_votes Poll_perc  \n",
      "0        336648    71.16%  \n",
      "1        286438    61.54%  \n",
      "2        330872    72.30%  \n",
      "3        325335    65.07%  \n",
      "4        234098    53.04%  \n",
      "..          ...       ...  \n",
      "515      199320    77.72%  \n",
      "516      115842    54.66%  \n",
      "517      158872    74.85%  \n",
      "518      218108    75.52%  \n",
      "519      220650    74.18%  \n",
      "\n",
      "[520 rows x 6 columns]\n"
     ]
    }
   ],
   "source": [
    "# Parse Vol I text file to get detailed results\n",
    "# 1. join df_cons_elector_index (Cons_line,Electors_line),df_cons_text_lines (Cons_line,Constituency,Election_year),\n",
    "# 2. join 1 with df_elector_text_lines (Electors_line,Electors) to get all electors details, constituency, number_of_seats, election year in one line\n",
    "\n",
    "df_cons_electors_text = pd.merge(df_cons_elector_index,df_cons_text_lines,on='Cons_line')\n",
    "#print(df_cons_electors_text)\n",
    "df_electors_info = pd.merge(df_cons_electors_text,df_elector_text_lines,on='Electors_line')\n",
    "df_electors_info.drop(columns=['Electors_line', 'Cons_line'],axis=1,inplace=True)\n",
    "print(len(df_electors_info))\n",
    "print(df_electors_info)"
   ]
  },
  {
   "cell_type": "code",
   "execution_count": 172,
   "id": "79572e6d",
   "metadata": {},
   "outputs": [],
   "source": [
    "import os\n",
    "df_electors_info.to_csv('F:/Ramaa/CoolResearch/IndiaElectionsStudies/LokSabhaElections/All_1951_2019/ElectorsInfo/1967_electors_info_cons.csv')\n"
   ]
  },
  {
   "cell_type": "code",
   "execution_count": null,
   "id": "5d5d8164",
   "metadata": {},
   "outputs": [],
   "source": [
    "# all testing with one lines done below"
   ]
  },
  {
   "cell_type": "code",
   "execution_count": 76,
   "id": "dfbe9904",
   "metadata": {},
   "outputs": [
    {
     "name": "stdout",
     "output_type": "stream",
     "text": [
      "Page189_Line41\n",
      "TRIPURA EAST (ST)\n",
      "1\n",
      "        Cons_line       Constituency\n",
      "0  Page189_Line41  TRIPURA EAST (ST)\n"
     ]
    }
   ],
   "source": [
    "text = 'Page269_Line5:3.LUCKY R. PERUMAL @KALIAPERUMAL M ADMK 102622 25.10%'\n",
    "dict_cons_text_lines = {}\n",
    "cons_line_text = text.split(':')\n",
    "cons_line = cons_line_text[0]\n",
    "cons = cons_line_text[2].split(' . ')[1].strip()\n",
    "dict_cons_text_lines[cons_line] = [cons]\n",
    "print(cons_line)\n",
    "print(cons)\n",
    "\n",
    "df_cons_text_lines = pd.DataFrame(dict_cons_text_lines).T\n",
    "df_cons_text_lines.reset_index(inplace=True)\n",
    "#df_cons_text_lines.columns = ['Cons_line','Constituency','Num_Seats']\n",
    "df_cons_text_lines.columns = ['Cons_line','Constituency']\n",
    "# Add a new column election year to the pandas dataframe\n",
    "#df_cons_text_lines['Election_year'] = election_year\n",
    "print(len(df_cons_text_lines))\n",
    "print(df_cons_text_lines)"
   ]
  },
  {
   "cell_type": "code",
   "execution_count": 111,
   "id": "92231f79",
   "metadata": {},
   "outputs": [
    {
     "name": "stdout",
     "output_type": "stream",
     "text": [
      "         Result_line                           Candidate       Party  \\\n",
      "0      Page170_Line5           1.KINJARAPU YERRANNAIDU M         TDP   \n",
      "1      Page170_Line6         2.APPAYYA DORA HANUMANTHU M  NTRTDP(LP)   \n",
      "2      Page170_Line7            3.DHARMANA PRASADA RAO M         INC   \n",
      "3      Page170_Line8        4.TAMMINENI JAGANMOHANARAO M         IND   \n",
      "4     Page170_Line11     1.VIJAYA RAMARAJU SETRUCHARLA M         TDP   \n",
      "...              ...                                 ...         ...   \n",
      "1298  Page203_Line55                 3.AHALLIYA SANKAR F         BJP   \n",
      "1299  Page203_Line56      4.PUTHUTHOTTIL IBRAHIM TIRUR M         PDP   \n",
      "1300  Page203_Line57      5.CHOLAKKATTIL KUNHIMUHAMMED M         IND   \n",
      "1301  Page204_Line11                   1.S. AJAYAKUMAR M         CPM   \n",
      "1302   Page269_Line5  3.LUCKY R. PERUMAL @KALIAPERUMAL M        ADMK   \n",
      "\n",
      "     Votes_received Votes_received_perc  \n",
      "0            286582              43.14%  \n",
      "1            200217              30.14%  \n",
      "2            175762              26.46%  \n",
      "3              1792               0.27%  \n",
      "4            299904              50.55%  \n",
      "...             ...                 ...  \n",
      "1298          65008               9.48%  \n",
      "1299          35026               5.11%  \n",
      "1300           1073               0.16%  \n",
      "1301         335376              46.87%  \n",
      "1302         102622              25.10%  \n",
      "\n",
      "[1303 rows x 5 columns]\n"
     ]
    }
   ],
   "source": [
    "text = 'Page269_Line5:3.LUCKY R. PERUMAL @KALIAPERUMAL M ADMK 102622 25.10%'\n",
    "\n",
    "replace_hashnum = text.replace('#Num!','0.00%')\n",
    "remove_uncontested = replace_hashnum.replace(' RETURNED UNCONTESTED','').strip()\n",
    "remove_newline = remove_uncontested.replace('\\n','')\n",
    "results_line = remove_newline.split(':')\n",
    "results = results_line[1].split(' ')\n",
    "                #candidate_position = remove_newline.split(':')[1].split('.')[0]\n",
    "                #print(candidate_position)\n",
    "party = results[-3]\n",
    "votes = results[-2]\n",
    "votes_perc = results[-1]\n",
    "contains_candidate = results[:-3]\n",
    "candidate_with_pos = ''\n",
    "for parts in range(0,len(contains_candidate)):\n",
    "    candidate_with_pos += contains_candidate[parts]+' '\n",
    "    candidate = re.sub(position,'',candidate_with_pos).strip()\n",
    "    dict_result_text_lines[results_line[0]] = [candidate,party,votes,votes_perc]\n",
    "                \n",
    "df_results_text_lines = pd.DataFrame(dict_result_text_lines).T\n",
    "df_results_text_lines.reset_index(inplace=True)\n",
    "df_results_text_lines.columns = ['Result_line','Candidate','Party','Votes_received','Votes_received_perc']\n",
    "print(df_results_text_lines)"
   ]
  },
  {
   "cell_type": "code",
   "execution_count": null,
   "id": "57251e30",
   "metadata": {},
   "outputs": [],
   "source": []
  }
 ],
 "metadata": {
  "kernelspec": {
   "display_name": "Python 3 (ipykernel)",
   "language": "python",
   "name": "python3"
  },
  "language_info": {
   "codemirror_mode": {
    "name": "ipython",
    "version": 3
   },
   "file_extension": ".py",
   "mimetype": "text/x-python",
   "name": "python",
   "nbconvert_exporter": "python",
   "pygments_lexer": "ipython3",
   "version": "3.9.13"
  }
 },
 "nbformat": 4,
 "nbformat_minor": 5
}
