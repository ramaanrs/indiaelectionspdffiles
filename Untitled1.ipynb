{
 "cells": [
  {
   "cell_type": "code",
   "execution_count": 1,
   "id": "ef2326a5",
   "metadata": {},
   "outputs": [
    {
     "name": "stdout",
     "output_type": "stream",
     "text": [
      " 1999 (13th LOK SABHA)\n"
     ]
    }
   ],
   "source": [
    "# Parse Vol III text file to get detailed results\n",
    "# From the extract,get the block begin lines and block end lines and store those line numbers in a list\n",
    "import re\n",
    "with open('F:/Ramaa/CoolResearch/IndiaElectionsStudies/LokSabhaElections/All_1951_2019_RawFiles/Text/Text1999(Vol-III).txt','r') as result_file:\n",
    "    for line in result_file:\n",
    "        if line.find('Election Commission of India – General Elections,') >= 0:\n",
    "            election_year = line.replace('\\n','').split(',')[-1]\n",
    "    print(election_year)\n",
    "result_file.close()\n",
    "\n",
    "# get the page numbers and line numbers for all lines which have constituency and electors words in them. Former is where\n",
    "# the block begins and the latter is where the block ends\n",
    "block_begin_page = []\n",
    "block_end_page = []\n",
    "block_begin_line = []\n",
    "block_end_line = []\n",
    "with open('F:/Ramaa/CoolResearch/IndiaElectionsStudies/LokSabhaElections/All_1951_2019_RawFiles/Text/Text1999(Vol-III).txt','r') as result_file:\n",
    "    for line in result_file:\n",
    "        if line.find('AC Number and AC Nam') >= 0:\n",
    "            #print(line)\n",
    "            begin_page_number = int(line.split('_')[0].replace('Page',''))\n",
    "            block_begin_page.append(begin_page_number)\n",
    "            begin_line_number = int(line.split(':')[0].split('_')[1].replace('Line',''))\n",
    "            block_begin_line.append(begin_line_number)\n",
    "    \n",
    "        #if line.find('ELECTORS') >= 0:\n",
    "        if line.find('Total Valid Votes for the AC :') >= 0:\n",
    "        #print(line)\n",
    "            end_page_number = int(line.split('_')[0].replace('Page',''))\n",
    "            block_end_page.append(end_page_number)\n",
    "            end_line_number = int(line.split(':')[0].split('_')[1].replace('Line',''))\n",
    "            block_end_line.append(end_line_number)\n",
    "#    print(block_begin_page)\n",
    "#    print(block_begin_line)\n",
    "#    print(block_end_page)\n",
    "#    print(block_end_line)\n",
    "result_file.close()"
   ]
  },
  {
   "cell_type": "code",
   "execution_count": null,
   "id": "eb215af3",
   "metadata": {},
   "outputs": [],
   "source": []
  }
 ],
 "metadata": {
  "kernelspec": {
   "display_name": "Python 3 (ipykernel)",
   "language": "python",
   "name": "python3"
  },
  "language_info": {
   "codemirror_mode": {
    "name": "ipython",
    "version": 3
   },
   "file_extension": ".py",
   "mimetype": "text/x-python",
   "name": "python",
   "nbconvert_exporter": "python",
   "pygments_lexer": "ipython3",
   "version": "3.9.13"
  }
 },
 "nbformat": 4,
 "nbformat_minor": 5
}
