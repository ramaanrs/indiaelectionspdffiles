{
 "cells": [
  {
   "cell_type": "code",
   "execution_count": null,
   "id": "4474cd6e",
   "metadata": {},
   "outputs": [],
   "source": [
    "# Get constituencies and parse them. Use Vol II\n",
    "# Read volume 2 text, parse the lines to get Election year, constituency name, state code, Number of seats"
   ]
  },
  {
   "cell_type": "code",
   "execution_count": 145,
   "id": "ef435903",
   "metadata": {},
   "outputs": [],
   "source": [
    "import re\n",
    "with open('F:/Ramaa/CoolResearch/IndiaElectionsStudies/LokSabhaElections/All_1951_2019_RawFiles/Text/Text2009_ConstituencyDataSummary.txt', 'r') as read_file:\n",
    "    for row in read_file:\n",
    "        if row.find('Line0:') >= 0 and row.find('Commission') >= 0:\n",
    "            header = row.replace('\\n','')\n",
    "read_file.close()\n",
    "\n",
    "# get the page numbers and line numbers for all lines which have constituency,state and number of states\n",
    "list_state_page = []\n",
    "list_code_page = []\n",
    "list_num_seats_page = []\n",
    "list_state_line = []\n",
    "list_code_line = []\n",
    "list_num_seats_line = []\n",
    "\n",
    "with open('F:/Ramaa/CoolResearch/IndiaElectionsStudies/LokSabhaElections/All_1951_2019_RawFiles/Text/Text2009_ConstituencyDataSummary.txt','r') as result_file:\n",
    "    for line in result_file:\n",
    "        if line.find('Constituency') >= 0:# and line.find('CODE') >= 0:\n",
    "            code_page = int(line.split('_')[0].replace('Page',''))\n",
    "            list_code_page.append(code_page)\n",
    "            code_line = int(line.split(':')[0].split('_')[1].replace('Line',''))\n",
    "            list_code_line.append(code_line)\n",
    "     \n",
    "        if line.find('State/UT  :') >= 0:\n",
    "            state_page = int(line.split('_')[0].replace('Page',''))\n",
    "            list_state_page.append(state_page)\n",
    "            state_line = int(line.split(':')[0].split('_')[1].replace('Line',''))\n",
    "            list_state_line.append(state_line)\n",
    "\n",
    "        #if line.find('NUMBER OF SEATS') >= 0:\n",
    "        if line.find('Code  :') >= 0:\n",
    "            num_seats_page = int(line.split('_')[0].replace('Page',''))\n",
    "            list_num_seats_page.append(num_seats_page)\n",
    "            num_seats_line = int(line.split(':')[0].split('_')[1].replace('Line',''))\n",
    "            list_num_seats_line.append(num_seats_line)\n",
    "\n",
    "result_file.close()"
   ]
  },
  {
   "cell_type": "code",
   "execution_count": 148,
   "id": "32a14298",
   "metadata": {},
   "outputs": [
    {
     "name": "stdout",
     "output_type": "stream",
     "text": [
      "[0, 1, 2, 3, 4, 5, 6, 7, 8, 9, 10, 11, 12, 13, 14, 15, 16, 17, 18, 19, 20, 21, 22, 23, 24, 25, 26, 27, 28, 29, 30, 31, 32, 33, 34, 35, 36, 37, 38, 39, 40, 41, 42, 43, 44, 45, 46, 47, 48, 49, 50, 51, 52, 53, 54, 55, 56, 57, 58, 59, 60, 61, 62, 63, 64, 65, 66, 67, 68, 69, 70, 71, 72, 73, 74, 75, 76, 77, 78, 79, 80, 81, 82, 83, 84, 85, 86, 87, 88, 89, 90, 91, 92, 93, 94, 95, 96, 97, 98, 99, 100, 101, 102, 103, 104, 105, 106, 107, 108, 109, 110, 111, 112, 113, 114, 115, 116, 117, 118, 119, 120, 121, 122, 123, 124, 125, 126, 127, 128, 129, 130, 131, 132, 133, 134, 135, 136, 137, 138, 139, 140, 141, 142, 143, 144, 145, 146, 147, 148, 149, 150, 151, 152, 153, 154, 155, 156, 157, 158, 159, 160, 161, 162, 163, 164, 165, 166, 167, 168, 169, 170, 171, 172, 173, 174, 175, 176, 177, 178, 179, 180, 181, 182, 183, 184, 185, 186, 187, 188, 189, 190, 191, 192, 193, 194, 195, 196, 197, 198, 199, 200, 201, 202, 203, 204, 205, 206, 207, 208, 209, 210, 211, 212, 213, 214, 215, 216, 217, 218, 219, 220, 221, 222, 223, 224, 225, 226, 227, 228, 229, 230, 231, 232, 233, 234, 235, 236, 237, 238, 239, 240, 241, 242, 243, 244, 245, 246, 247, 248, 249, 250, 251, 252, 253, 254, 255, 256, 257, 258, 259, 260, 261, 262, 263, 264, 265, 266, 267, 268, 269, 270, 271, 272, 273, 274, 275, 276, 277, 278, 279, 280, 281, 282, 283, 284, 285, 286, 287, 288, 289, 290, 291, 292, 293, 294, 295, 296, 297, 298, 299, 300, 301, 302, 303, 304, 305, 306, 307, 308, 309, 310, 311, 312, 313, 314, 315, 316, 317, 318, 319, 320, 321, 322, 323, 324, 325, 326, 327, 328, 329, 330, 331, 332, 333, 334, 335, 336, 337, 338, 339, 340, 341, 342, 343, 344, 345, 346, 347, 348, 349, 350, 351, 352, 353, 354, 355, 356, 357, 358, 359, 360, 361, 362, 363, 364, 365, 366, 367, 368, 369, 370, 371, 372, 373, 374, 375, 376, 377, 378, 379, 380, 381, 382, 383, 384, 385, 386, 387, 388, 389, 390, 391, 392, 393, 394, 395, 396, 397, 398, 399, 400, 401, 402, 403, 404, 405, 406, 407, 408, 409, 410, 411, 412, 413, 414, 415, 416, 417, 418, 419, 420, 421, 422, 423, 424, 425, 426, 427, 428, 429, 430, 431, 432, 433, 434, 435, 436, 437, 438, 439, 440, 441, 442, 443, 444, 445, 446, 447, 448, 449, 450, 451, 452, 453, 454, 455, 456, 457, 458, 459, 460, 461, 462, 463, 464, 465, 466, 467, 468, 469, 470, 471, 472, 473, 474, 475, 476, 477, 478, 479, 480, 481, 482, 483, 484, 485, 486, 487, 488, 489, 490, 491, 492, 493, 494, 495, 496, 497, 498, 499, 500, 501, 502, 503, 504, 505, 506, 507, 508, 509, 510, 511, 512, 513, 514, 515, 516, 517, 518, 519, 520, 521, 522, 523, 524, 525, 526, 527, 528, 529, 530, 531, 532, 533, 534, 535, 536, 537, 538, 539, 540, 541, 542]\n",
      "[4, 4, 4, 4, 4, 4, 4, 4, 4, 4, 4, 4, 4, 4, 4, 4, 4, 4, 4, 4, 4, 4, 4, 4, 4, 4, 4, 4, 4, 4, 4, 4, 4, 4, 4, 4, 4, 4, 4, 4, 4, 4, 4, 4, 4, 4, 4, 4, 4, 4, 4, 4, 4, 4, 4, 4, 4, 4, 4, 4, 4, 4, 4, 4, 4, 4, 4, 4, 4, 4, 4, 4, 4, 4, 4, 4, 4, 4, 4, 4, 4, 4, 4, 4, 4, 4, 4, 4, 4, 4, 4, 4, 4, 4, 4, 4, 4, 4, 4, 4, 4, 4, 4, 4, 4, 4, 4, 4, 4, 4, 4, 4, 4, 4, 4, 4, 4, 4, 4, 4, 4, 4, 4, 4, 4, 4, 4, 4, 4, 4, 4, 4, 4, 4, 4, 4, 4, 4, 4, 4, 4, 4, 4, 4, 4, 4, 4, 4, 4, 4, 4, 4, 4, 4, 4, 4, 4, 4, 4, 4, 4, 4, 4, 4, 4, 4, 4, 4, 4, 4, 4, 4, 4, 4, 4, 4, 4, 4, 4, 4, 4, 4, 4, 4, 4, 4, 4, 4, 4, 4, 4, 4, 4, 4, 4, 4, 4, 4, 4, 4, 4, 4, 4, 4, 4, 4, 4, 4, 4, 4, 4, 4, 4, 4, 4, 4, 4, 4, 4, 4, 4, 4, 4, 4, 4, 4, 4, 4, 4, 4, 4, 4, 4, 4, 4, 4, 4, 4, 4, 4, 4, 4, 4, 4, 4, 4, 4, 4, 4, 4, 4, 4, 4, 4, 4, 4, 4, 4, 4, 4, 4, 4, 4, 4, 4, 4, 4, 4, 4, 4, 4, 4, 4, 4, 4, 4, 4, 4, 4, 4, 4, 4, 4, 4, 4, 4, 4, 4, 4, 4, 4, 4, 4, 4, 4, 4, 4, 4, 4, 4, 4, 4, 4, 4, 4, 4, 4, 4, 4, 4, 4, 4, 4, 4, 4, 4, 4, 4, 4, 4, 4, 4, 4, 4, 4, 4, 4, 4, 4, 4, 4, 4, 4, 4, 4, 4, 4, 4, 4, 4, 4, 4, 4, 4, 4, 4, 4, 4, 4, 4, 4, 4, 4, 4, 4, 4, 4, 4, 4, 4, 4, 4, 4, 4, 4, 4, 4, 4, 4, 4, 4, 4, 4, 4, 4, 4, 4, 4, 4, 4, 4, 4, 4, 4, 4, 4, 4, 4, 4, 4, 4, 4, 4, 4, 4, 4, 4, 4, 4, 4, 4, 4, 4, 4, 4, 4, 4, 4, 4, 4, 4, 4, 4, 4, 4, 4, 4, 4, 4, 4, 4, 4, 4, 4, 4, 4, 4, 4, 4, 4, 4, 4, 4, 4, 4, 4, 4, 4, 4, 4, 4, 4, 4, 4, 4, 4, 4, 4, 4, 4, 4, 4, 4, 4, 4, 4, 4, 4, 4, 4, 4, 4, 4, 4, 4, 4, 4, 4, 4, 4, 4, 4, 4, 4, 4, 4, 4, 4, 4, 4, 4, 4, 4, 4, 4, 4, 4, 4, 4, 4, 4, 4, 4, 4, 4, 4, 4, 4, 4, 4, 4, 4, 4, 4, 4, 4, 4, 4, 4, 4, 4, 4, 4, 4, 4, 4, 4, 4, 4, 4, 4, 4, 4, 4, 4, 4, 4, 4, 4, 4, 4, 4, 4, 4, 4, 4, 4, 4, 4, 4, 4, 4, 4]\n"
     ]
    }
   ],
   "source": [
    "print(list_num_seats_page)\n",
    "print(list_num_seats_line)"
   ]
  },
  {
   "cell_type": "code",
   "execution_count": 149,
   "id": "d5dc5882",
   "metadata": {},
   "outputs": [],
   "source": [
    "# Parse Vol II text file to get constituency summary results\n",
    "# Get a dictionary with page_line_number for constituency line as key and state line as value\n",
    "# Get a dictionary with page_line_number for constituency line as key and number of seats line as value\n",
    "# Store the results in a pandas dataframe\n",
    "import pandas as pd\n",
    "dict_cons_state_line = {}\n",
    "dict_cons_numseats_line = {}\n",
    "\n",
    "for page_number in range(0,len(list_code_page)):\n",
    "    cons_page = list_code_page[page_number]\n",
    "    state_page = list_state_page[page_number]\n",
    "    num_seats_page = list_num_seats_page[page_number]\n",
    "    cons_line = list_code_line[page_number]\n",
    "    state_line = list_state_line[page_number]\n",
    "    num_seats_line = list_num_seats_line[page_number]\n",
    "    \n",
    "    dict_cons_state_line['Page'+str(cons_page)+'_'+'Line'+str(cons_line)] = 'Page'+str(state_page)+'_'+'Line'+str(state_line)\n",
    "    dict_cons_numseats_line['Page'+str(cons_page)+'_'+'Line'+str(cons_line)] = 'Page'+str(num_seats_page)+'_'+'Line'+str(num_seats_line)\n",
    "\n",
    "df_cons_state_index = pd.DataFrame(list(dict_cons_state_line.items()),columns  = ['Cons_line','State_line'])\n",
    "df_cons_numseats_index = pd.DataFrame(list(dict_cons_numseats_line.items()),columns  = ['Cons_line','Num_Seats_line'])"
   ]
  },
  {
   "cell_type": "code",
   "execution_count": 150,
   "id": "024ff0ef",
   "metadata": {},
   "outputs": [
    {
     "name": "stdout",
     "output_type": "stream",
     "text": [
      "         Cons_line     State_line\n",
      "0      Page0_Line6    Page0_Line4\n",
      "1      Page1_Line6    Page1_Line4\n",
      "2      Page2_Line6    Page2_Line4\n",
      "3      Page3_Line6    Page3_Line4\n",
      "4      Page4_Line6    Page4_Line4\n",
      "..             ...            ...\n",
      "538  Page538_Line6  Page538_Line4\n",
      "539  Page539_Line6  Page539_Line4\n",
      "540  Page540_Line6  Page540_Line4\n",
      "541  Page541_Line6  Page541_Line4\n",
      "542  Page542_Line6  Page542_Line4\n",
      "\n",
      "[543 rows x 2 columns]\n"
     ]
    }
   ],
   "source": [
    "print(df_cons_state_index)"
   ]
  },
  {
   "cell_type": "code",
   "execution_count": 165,
   "id": "71f63eae",
   "metadata": {},
   "outputs": [
    {
     "name": "stdout",
     "output_type": "stream",
     "text": [
      "2009  (15th  LOK  SABHA)\n"
     ]
    }
   ],
   "source": [
    "# Get constituencies line and parse them. Use Vol II\n",
    "# This block works\n",
    "# Read volume 2 text, parse the lines to get Election year, constituency name, state code\n",
    "import re\n",
    "import csv\n",
    "\n",
    "dict_cons_code_text = {}\n",
    "with open('F:/Ramaa/CoolResearch/IndiaElectionsStudies/LokSabhaElections/All_1951_2019_RawFiles/Text/Text2009_ConstituencyDataSummary.txt', 'r') as read_file:\n",
    "    for line in read_file:\n",
    "        if line.find('Page0_Line0:') >= 0 and line.find('Election  Commission  of India,  General  Elections') >= 0:\n",
    "            header = line.replace('\\n','')\n",
    "            election_year = header.split(',')[-1].strip()\n",
    "            print(election_year)\n",
    "read_file.close()\n",
    "digits_with_space = r'[0-50]\\s+'\n",
    "digits = r'[0-50]'\n",
    "with open('F:/Ramaa/CoolResearch/IndiaElectionsStudies/LokSabhaElections/All_1951_2019_RawFiles/Text/Text2009_ConstituencyDataSummary.txt', 'r') as read_file:\n",
    "    for line in read_file:\n",
    "        for page_line_index in dict_cons_state_line:\n",
    "            if line.startswith(page_line_index + ':'):\n",
    "                remove_newline = line.replace('\\n','')\n",
    "                remove_code = line.replace('CODE','')\n",
    "                remove_ws = remove_code.split(':')\n",
    "                constituency = remove_ws[2].strip()\n",
    "                #constituency = remove_ws[2].split(' - ')[1].strip()\n",
    "                #constituency_code = remove_ws[-1].strip()\n",
    "                #constituency_with_no = remove_ws[1].replace(' CONSTITUENCY ','')\n",
    "                #constituency_pre = re.sub(digits,'',constituency_with_no).strip()\n",
    "                #constituency = re.sub(digits_with_space,'',constituency_pre).strip()\n",
    "                #dict_cons_code_text[remove_ws[0]] = [election_year,constituency,constituency_code]\n",
    "                dict_cons_code_text[remove_ws[0]] = [election_year,constituency]\n",
    "                \n",
    "df_cons_text_lines = pd.DataFrame(dict_cons_code_text).T\n",
    "df_cons_text_lines.reset_index(inplace=True)\n",
    "#df_cons_text_lines.columns = ['Cons_line','election_year','Constituency','Constituency_code']\n",
    "df_cons_text_lines.columns = ['Cons_line','election_year','Constituency']"
   ]
  },
  {
   "cell_type": "code",
   "execution_count": 166,
   "id": "9211adda",
   "metadata": {},
   "outputs": [
    {
     "name": "stdout",
     "output_type": "stream",
     "text": [
      "         Cons_line             election_year         Constituency\n",
      "0      Page0_Line6  2009  (15th  LOK  SABHA)             Adilabad\n",
      "1      Page1_Line6  2009  (15th  LOK  SABHA)           Peddapalle\n",
      "2      Page2_Line6  2009  (15th  LOK  SABHA)           Karimnagar\n",
      "3      Page3_Line6  2009  (15th  LOK  SABHA)            Nizamabad\n",
      "4      Page4_Line6  2009  (15th  LOK  SABHA)            Zahirabad\n",
      "..             ...                       ...                  ...\n",
      "538  Page538_Line6  2009  (15th  LOK  SABHA)  NORTH  WEST   DELHI\n",
      "539  Page539_Line6  2009  (15th  LOK  SABHA)         WEST   DELHI\n",
      "540  Page540_Line6  2009  (15th  LOK  SABHA)         SOUTH  DELHI\n",
      "541  Page541_Line6  2009  (15th  LOK  SABHA)          Lakshadweep\n",
      "542  Page542_Line6  2009  (15th  LOK  SABHA)           Puducherry\n",
      "\n",
      "[543 rows x 3 columns]\n"
     ]
    }
   ],
   "source": [
    "print(df_cons_text_lines)"
   ]
  },
  {
   "cell_type": "code",
   "execution_count": 167,
   "id": "573e3326",
   "metadata": {},
   "outputs": [],
   "source": [
    "# Get constituencies line and parse them. Use Vol II\n",
    "# This block works\n",
    "# Read volume 2 text, parse the lines to get Number of seats line, number of seats\n",
    "# Not for 1962\n",
    "\n",
    "dict_cons_numseats_text = {}\n",
    "num_seats_regex = r'[0-9] NUMBER OF SEATS'\n",
    "\n",
    "with open('F:/Ramaa/CoolResearch/IndiaElectionsStudies/LokSabhaElections/All_1951_2019_RawFiles/Text/Text2009_ConstituencyDataSummary.txt', 'r') as read_file:\n",
    "    for line in read_file:\n",
    "        for page_line_index,numseats_line_index in dict_cons_numseats_line.items():\n",
    "            if line.startswith(numseats_line_index + ':'):\n",
    "                remove_newline = line.replace('\\n','')\n",
    "                num_seats = remove_newline.split(':')[-2].replace('( of Total Valid Votes )','').replace('NUMBER OF SEATS','').strip()\n",
    "                Num_Seats_line = remove_newline.split(':')[0]\n",
    "                dict_cons_numseats_text[Num_Seats_line] = [num_seats]\n",
    "                \n",
    "df_cons_numseats_text_lines = pd.DataFrame(dict_cons_numseats_text).T\n",
    "df_cons_numseats_text_lines.reset_index(inplace=True)\n",
    "df_cons_numseats_text_lines.columns = ['Num_Seats_line','Number_Seats']"
   ]
  },
  {
   "cell_type": "code",
   "execution_count": 168,
   "id": "f5786267",
   "metadata": {},
   "outputs": [],
   "source": [
    "# Get constituencies line and parse them. Use Vol II\n",
    "# This block works\n",
    "# Read volume 2 text, parse the lines to get Number of seats line, number of seats\n",
    "\n",
    "dict_cons_numseats_text = {}\n",
    "\n",
    "with open('F:/Ramaa/CoolResearch/IndiaElectionsStudies/LokSabhaElections/All_1951_2019_RawFiles/Text/Text2009_ConstituencyDataSummary.txt', 'r') as read_file:\n",
    "    for line in read_file:\n",
    "        for page_line_index,numseats_line_index in dict_cons_numseats_line.items():\n",
    "            if line.startswith(numseats_line_index + ':'):\n",
    "                remove_newline = line.replace('\\n','')\n",
    "                num_seats = remove_newline.split(':')[-1].strip()\n",
    "                Num_Seats_line = remove_newline.split(':')[0]\n",
    "                dict_cons_numseats_text[Num_Seats_line] = [num_seats]\n",
    "                \n",
    "df_cons_numseats_text_lines = pd.DataFrame(dict_cons_numseats_text).T\n",
    "df_cons_numseats_text_lines.reset_index(inplace=True)\n",
    "df_cons_numseats_text_lines.columns = ['Num_Seats_line','Number_Seats']"
   ]
  },
  {
   "cell_type": "code",
   "execution_count": 169,
   "id": "22aaea1b",
   "metadata": {},
   "outputs": [
    {
     "name": "stdout",
     "output_type": "stream",
     "text": [
      "    Num_Seats_line Number_Seats\n",
      "0      Page0_Line4          S01\n",
      "1      Page1_Line4          S01\n",
      "2      Page2_Line4          S01\n",
      "3      Page3_Line4          S01\n",
      "4      Page4_Line4          S01\n",
      "..             ...          ...\n",
      "538  Page538_Line4          U05\n",
      "539  Page539_Line4          U05\n",
      "540  Page540_Line4          U05\n",
      "541  Page541_Line4          U06\n",
      "542  Page542_Line4          U07\n",
      "\n",
      "[543 rows x 2 columns]\n"
     ]
    }
   ],
   "source": [
    "print(df_cons_numseats_text_lines)"
   ]
  },
  {
   "cell_type": "code",
   "execution_count": 170,
   "id": "33336c75",
   "metadata": {},
   "outputs": [],
   "source": [
    "# Get constituencies line and parse them. Use Vol II\n",
    "# This block works\n",
    "# Read volume 2 text, parse the lines to get state line, state name\n",
    "\n",
    "dict_cons_state_text = {}\n",
    "\n",
    "with open('F:/Ramaa/CoolResearch/IndiaElectionsStudies/LokSabhaElections/All_1951_2019_RawFiles/Text/Text2009_ConstituencyDataSummary.txt', 'r') as read_file:\n",
    "    for line in read_file:\n",
    "        for page_line_index,state_line_index in dict_cons_state_line.items():\n",
    "            if line.startswith(state_line_index + ':'):\n",
    "                remove_newline = line.replace('\\n','')\n",
    "                State_line = remove_newline.split(':')[0]\n",
    "                #State_name = remove_newline.split('.')[1].replace(' STATE/UT :','').strip()\n",
    "                State_name = remove_newline.split(':')[2].replace('  Code  ','').replace(' STATE/UT','').replace('( of Total Valid Votes )','').strip()\n",
    "                dict_cons_state_text[State_line] = [State_name]\n",
    "                \n",
    "df_cons_state_text_lines = pd.DataFrame(dict_cons_state_text).T\n",
    "df_cons_state_text_lines.reset_index(inplace=True)\n",
    "df_cons_state_text_lines.columns = ['State_line','State']"
   ]
  },
  {
   "cell_type": "code",
   "execution_count": 171,
   "id": "74dce699",
   "metadata": {},
   "outputs": [
    {
     "name": "stdout",
     "output_type": "stream",
     "text": [
      "        State_line State\n",
      "0      Page0_Line4   S01\n",
      "1      Page1_Line4   S01\n",
      "2      Page2_Line4   S01\n",
      "3      Page3_Line4   S01\n",
      "4      Page4_Line4   S01\n",
      "..             ...   ...\n",
      "538  Page538_Line4   U05\n",
      "539  Page539_Line4   U05\n",
      "540  Page540_Line4   U05\n",
      "541  Page541_Line4   U06\n",
      "542  Page542_Line4   U07\n",
      "\n",
      "[543 rows x 2 columns]\n"
     ]
    }
   ],
   "source": [
    "print(df_cons_state_text_lines)"
   ]
  },
  {
   "cell_type": "code",
   "execution_count": 172,
   "id": "9264d95b",
   "metadata": {},
   "outputs": [
    {
     "name": "stdout",
     "output_type": "stream",
     "text": [
      "543\n",
      "    State Number_Seats             election_year         Constituency\n",
      "0     S01          S01  2009  (15th  LOK  SABHA)             Adilabad\n",
      "1     S01          S01  2009  (15th  LOK  SABHA)           Peddapalle\n",
      "2     S01          S01  2009  (15th  LOK  SABHA)           Karimnagar\n",
      "3     S01          S01  2009  (15th  LOK  SABHA)            Nizamabad\n",
      "4     S01          S01  2009  (15th  LOK  SABHA)            Zahirabad\n",
      "..    ...          ...                       ...                  ...\n",
      "538   U05          U05  2009  (15th  LOK  SABHA)  NORTH  WEST   DELHI\n",
      "539   U05          U05  2009  (15th  LOK  SABHA)         WEST   DELHI\n",
      "540   U05          U05  2009  (15th  LOK  SABHA)         SOUTH  DELHI\n",
      "541   U06          U06  2009  (15th  LOK  SABHA)          Lakshadweep\n",
      "542   U07          U07  2009  (15th  LOK  SABHA)           Puducherry\n",
      "\n",
      "[543 rows x 4 columns]\n"
     ]
    }
   ],
   "source": [
    "#df_cons_numseats_index: Cons_line  Num_Seats_line\n",
    "#df_cons_state_index : Cons_line   State_line\n",
    "#df_cons_text_lines : Cons_line,election_year,Constituency,Constituency_code\n",
    "#df_cons_numseats_text_lines : Num_Seats_line Number_Seats\n",
    "#df_cons_state_text_lines : State_line State\n",
    "    \n",
    "# Parse Vol II text file to get constituency summary results\n",
    "# 1. join df_cons_state_index(Cons_line,State_line),df_cons_numseats_index(Cons_line,Num_Seats_line)\n",
    "# 2. join 1 with df_cons_state_text_lines on State_line\n",
    "# 3. join 2 with df_cons_numseats_text_lines on Num_Seats_line\n",
    "# remove all unwanted columns\n",
    "\n",
    "df_cons_state_numseats_index = pd.merge(df_cons_state_index,df_cons_numseats_index,on='Cons_line')\n",
    "df_cons_state = pd.merge(df_cons_state_numseats_index,df_cons_state_text_lines,on='State_line')\n",
    "df_cons_state_numseats = pd.merge(df_cons_state,df_cons_numseats_text_lines,on='Num_Seats_line')\n",
    "df_cons_summary = pd.merge(df_cons_state_numseats,df_cons_text_lines,on='Cons_line')\n",
    "df_cons_summary.drop(columns=['Cons_line', 'State_line','Num_Seats_line'],axis=1,inplace=True)\n",
    "print(len(df_cons_summary))\n",
    "print(df_cons_summary)"
   ]
  },
  {
   "cell_type": "code",
   "execution_count": 173,
   "id": "40d712e9",
   "metadata": {},
   "outputs": [],
   "source": [
    "import os\n",
    "df_cons_summary.to_csv('F:/Ramaa/CoolResearch/IndiaElectionsStudies/LokSabhaElections/All_1951_2019/Constituencies/2009_Constituencies.csv')"
   ]
  },
  {
   "cell_type": "code",
   "execution_count": null,
   "id": "032fcc5a",
   "metadata": {},
   "outputs": [],
   "source": []
  }
 ],
 "metadata": {
  "kernelspec": {
   "display_name": "Python 3 (ipykernel)",
   "language": "python",
   "name": "python3"
  },
  "language_info": {
   "codemirror_mode": {
    "name": "ipython",
    "version": 3
   },
   "file_extension": ".py",
   "mimetype": "text/x-python",
   "name": "python",
   "nbconvert_exporter": "python",
   "pygments_lexer": "ipython3",
   "version": "3.9.13"
  }
 },
 "nbformat": 4,
 "nbformat_minor": 5
}
